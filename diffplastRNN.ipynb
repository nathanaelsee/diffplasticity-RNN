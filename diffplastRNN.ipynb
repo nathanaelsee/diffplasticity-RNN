{
  "nbformat": 4,
  "nbformat_minor": 0,
  "metadata": {
    "colab": {
      "name": "diffplastRNN.ipynb",
      "version": "0.3.2",
      "provenance": [],
      "collapsed_sections": [],
      "toc_visible": true,
      "include_colab_link": true
    },
    "kernelspec": {
      "name": "python3",
      "display_name": "Python 3"
    },
    "accelerator": "GPU"
  },
  "cells": [
    {
      "cell_type": "markdown",
      "metadata": {
        "id": "view-in-github",
        "colab_type": "text"
      },
      "source": [
        "<a href=\"https://colab.research.google.com/github/nathanaelsee/diffplasticity-RNN/blob/master/diffplastRNN.ipynb\" target=\"_parent\"><img src=\"https://colab.research.google.com/assets/colab-badge.svg\" alt=\"Open In Colab\"/></a>"
      ]
    },
    {
      "metadata": {
        "id": "9iqFvKNk4H-p",
        "colab_type": "text"
      },
      "cell_type": "markdown",
      "source": [
        "# Differentiable Plasticity RNN\n",
        "## An Extension of Uber's Differentiable Plasticity:\n",
        "https://github.com/uber-research/differentiable-plasticity/\n",
        "\n",
        "Testing the effectiveness of the differentiable plasticity network as an RNN model\n",
        "\n",
        "## Examples/tutorials used:\n",
        "\n",
        "https://pytorch.org/tutorials/intermediate/char_rnn_classification_tutorial.html  \n",
        "https://jovianlin.io/pytorch-with-gpu-in-google-colab/  "
      ]
    },
    {
      "metadata": {
        "id": "jUdrKNcTHaqe",
        "colab_type": "text"
      },
      "cell_type": "markdown",
      "source": [
        "# Install PyTorch"
      ]
    },
    {
      "metadata": {
        "id": "UrlaSAp1Gt6o",
        "colab_type": "code",
        "outputId": "ef4b0ba0-2671-49df-c6bc-1c34cb8d49f7",
        "colab": {
          "base_uri": "https://localhost:8080/",
          "height": 173
        }
      },
      "cell_type": "code",
      "source": [
        "!pip3 install http://download.pytorch.org/whl/cu92/torch-0.4.1-cp36-cp36m-linux_x86_64.whl\n",
        "    \n",
        "import torch\n",
        "import torch.nn as nn\n",
        "import torch.nn.functional as F\n",
        "from torch.utils import data\n",
        "from torch.autograd import Variable\n",
        "\n",
        "print(\"PyTorch version:\", torch.__version__)\n",
        "print(\"CUDA version:\\t\", torch.version.cuda)"
      ],
      "execution_count": 1,
      "outputs": [
        {
          "output_type": "stream",
          "text": [
            "Collecting torch==0.4.1 from http://download.pytorch.org/whl/cu92/torch-0.4.1-cp36-cp36m-linux_x86_64.whl\n",
            "\u001b[?25l  Downloading http://download.pytorch.org/whl/cu92/torch-0.4.1-cp36-cp36m-linux_x86_64.whl (512.6MB)\n",
            "\u001b[K    100% |████████████████████████████████| 512.6MB 51.9MB/s \n",
            "tcmalloc: large alloc 1073750016 bytes == 0x58928000 @  0x7f92c313d2a4 0x591a07 0x5b5d56 0x502e9a 0x506859 0x502209 0x502f3d 0x506859 0x504c28 0x502540 0x502f3d 0x506859 0x504c28 0x502540 0x502f3d 0x506859 0x504c28 0x502540 0x502f3d 0x507641 0x502209 0x502f3d 0x506859 0x504c28 0x502540 0x502f3d 0x507641 0x504c28 0x502540 0x502f3d 0x507641\n",
            "\u001b[?25hInstalling collected packages: torch\n",
            "Successfully installed torch-0.4.1\n",
            "PyTorch version: 0.4.1\n",
            "CUDA version:\t 9.2.148\n"
          ],
          "name": "stdout"
        }
      ]
    },
    {
      "metadata": {
        "id": "4hgCecJDIi8o",
        "colab_type": "text"
      },
      "cell_type": "markdown",
      "source": [
        "# Build the model\n",
        "\n",
        "Credits to Uber: https://github.com/uber-research/differentiable-plasticity/  \n",
        "Modifications made to original sample code."
      ]
    },
    {
      "metadata": {
        "id": "QQK4vsUchWCg",
        "colab_type": "code",
        "colab": {}
      },
      "cell_type": "code",
      "source": [
        "class DiffPlastRNN(nn.Module):\n",
        "    def __init__(self, input_size, num_classes):\n",
        "        \n",
        "        super(DiffPlastRNN, self).__init__()\n",
        "        self.input_size  = input_size\n",
        "        \n",
        "        # Initialize trainable parameters\n",
        "        self.w     = nn.Parameter(.01 * torch.randn(input_size, input_size), requires_grad=True) # The matrix of fixed (baseline) weights\n",
        "        self.alpha = nn.Parameter(.01 * torch.randn(input_size, input_size), requires_grad=True) # The matrix of plasticity coefficients\n",
        "        self.eta   = nn.Parameter(.01 * torch.ones(1),                       requires_grad=True) # The \"learning rate\" of plasticity - scalar-valued\n",
        "        \n",
        "        self.mlp = nn.Linear(input_size, num_classes) # MLP on top of hidden state for classification\n",
        "        self.softmax = nn.LogSoftmax(dim=1)           # Softmax layer on classification\n",
        "\n",
        "    # Run the network for one timestep\n",
        "    def forward(self, input, x_in, hebb):\n",
        "        \n",
        "        # hidden state - using tanh as non-linearity, as per paper\n",
        "        x_out = torch.tanh( x_in.mm(self.w + torch.mul(self.alpha, hebb)) + input )\n",
        "        \n",
        "        # Hebbian trace\n",
        "        hebb = (1 - self.eta) * hebb + self.eta * torch.bmm(x_in.unsqueeze(2), x_out.unsqueeze(1))[0] \n",
        "        # bmm here is used to implement an outer product between yin and yout, with the help of unsqueeze (i.e. added empty dimensions)\n",
        "        \n",
        "        # log softmax output for classification\n",
        "        output = self.softmax(self.mlp(x_out))\n",
        "        \n",
        "        return x_out, hebb, output\n",
        "\n",
        "    # RuntimeError if not using CUDA\n",
        "    def checkCuda(self):\n",
        "        self.w.get_device()\n",
        "        self.alpha.get_device()\n",
        "        self.eta.get_device()\n",
        "        \n",
        "    # Return an initialized, all-zero hidden state\n",
        "    def initialZeroState(self):\n",
        "        return torch.zeros(1, self.input_size)\n",
        "\n",
        "    # Return an initialized, all-zero Hebbian trace\n",
        "    def initialZeroHebb(self):\n",
        "        return torch.zeros(self.input_size, self.input_size)"
      ],
      "execution_count": 0,
      "outputs": []
    },
    {
      "metadata": {
        "colab_type": "text",
        "id": "1wrQjc-Vfr-z"
      },
      "cell_type": "markdown",
      "source": [
        "# Download & Process Dataset\n",
        "\n",
        "Dataset of names and their lingustic backgrounds taken from https://pytorch.org/tutorials/intermediate/char_rnn_classification_tutorial.html"
      ]
    },
    {
      "metadata": {
        "id": "9qZFluUHlqTb",
        "colab_type": "code",
        "outputId": "8b2be6e1-caff-46be-a480-c850e962401a",
        "colab": {
          "base_uri": "https://localhost:8080/",
          "height": 578
        }
      },
      "cell_type": "code",
      "source": [
        "!wget https://download.pytorch.org/tutorial/data.zip\n",
        "!unzip data.zip"
      ],
      "execution_count": 3,
      "outputs": [
        {
          "output_type": "stream",
          "text": [
            "--2018-12-06 01:42:48--  https://download.pytorch.org/tutorial/data.zip\n",
            "Resolving download.pytorch.org (download.pytorch.org)... 54.192.151.98, 54.192.151.109, 54.192.151.21, ...\n",
            "Connecting to download.pytorch.org (download.pytorch.org)|54.192.151.98|:443... connected.\n",
            "HTTP request sent, awaiting response... 200 OK\n",
            "Length: 2882130 (2.7M) [application/zip]\n",
            "Saving to: ‘data.zip’\n",
            "\n",
            "\rdata.zip              0%[                    ]       0  --.-KB/s               \rdata.zip             19%[==>                 ] 536.00K  2.61MB/s               \rdata.zip            100%[===================>]   2.75M  8.83MB/s    in 0.3s    \n",
            "\n",
            "2018-12-06 01:42:49 (8.83 MB/s) - ‘data.zip’ saved [2882130/2882130]\n",
            "\n",
            "Archive:  data.zip\n",
            "   creating: data/\n",
            "  inflating: data/eng-fra.txt        \n",
            "   creating: data/names/\n",
            "  inflating: data/names/Arabic.txt   \n",
            "  inflating: data/names/Chinese.txt  \n",
            "  inflating: data/names/Czech.txt    \n",
            "  inflating: data/names/Dutch.txt    \n",
            "  inflating: data/names/English.txt  \n",
            "  inflating: data/names/French.txt   \n",
            "  inflating: data/names/German.txt   \n",
            "  inflating: data/names/Greek.txt    \n",
            "  inflating: data/names/Irish.txt    \n",
            "  inflating: data/names/Italian.txt  \n",
            "  inflating: data/names/Japanese.txt  \n",
            "  inflating: data/names/Korean.txt   \n",
            "  inflating: data/names/Polish.txt   \n",
            "  inflating: data/names/Portuguese.txt  \n",
            "  inflating: data/names/Russian.txt  \n",
            "  inflating: data/names/Scottish.txt  \n",
            "  inflating: data/names/Spanish.txt  \n",
            "  inflating: data/names/Vietnamese.txt  \n"
          ],
          "name": "stdout"
        }
      ]
    },
    {
      "metadata": {
        "id": "V0uP08SCoAlF",
        "colab_type": "code",
        "outputId": "5a8fc81d-0cba-45d7-c440-cf3993b900c3",
        "colab": {
          "base_uri": "https://localhost:8080/",
          "height": 139
        }
      },
      "cell_type": "code",
      "source": [
        "from __future__ import unicode_literals, division\n",
        "from io import open\n",
        "import glob\n",
        "import os\n",
        "import unicodedata\n",
        "import string\n",
        "import random\n",
        "\n",
        "all_letters = string.ascii_letters + \" .,;'\"\n",
        "\n",
        "# Turn a Unicode string to plain ASCII, thanks to http://stackoverflow.com/a/518232/2809427\n",
        "def unicodeToAscii(s):\n",
        "    return ''.join(\n",
        "        c for c in unicodedata.normalize('NFD', s)\n",
        "        if unicodedata.category(c) != 'Mn'\n",
        "        and c in all_letters\n",
        "    ).lower()\n",
        "\n",
        "def letterToIndex(letter):\n",
        "    return all_letters.find(letter)\n",
        "\n",
        "print('Ślusàrski ->', unicodeToAscii('Ślusàrski'))\n",
        "\n",
        "# Build the category_lines dictionary, a list of names per language\n",
        "category_lines = {}\n",
        "all_lines = []\n",
        "line_table = []\n",
        "all_categories = []\n",
        "\n",
        "# Read a file and split into lines\n",
        "def readLines(filename):\n",
        "    lines = open(filename, encoding='utf-8').read().strip().split('\\n')\n",
        "    return [unicodeToAscii(line) for line in lines]\n",
        "\n",
        "category_id = 0\n",
        "for filename in glob.glob('data/names/*.txt'):\n",
        "    category = os.path.splitext(os.path.basename(filename))[0]\n",
        "    all_categories.append(category)\n",
        "    lines = readLines(filename)\n",
        "    category_lines[category] = lines\n",
        "    table = [(line, category_id) for line in lines]\n",
        "    all_lines += lines\n",
        "    line_table += table\n",
        "    category_id += 1\n",
        "\n",
        "n_data = len(all_lines)\n",
        "\n",
        "def lineToTensor(line):\n",
        "    tensor = torch.zeros(len(line), 1, n_letters)\n",
        "    for li, letter in enumerate(line):\n",
        "        tensor[li][0][letterToIndex(letter)] = 1\n",
        "    return tensor\n",
        "\n",
        "random.shuffle(line_table)\n",
        "\n",
        "# Split data into training and test sets\n",
        "ratio = 0.8\n",
        "n_training = int(n_data * ratio)\n",
        "n_test = n_data - n_training\n",
        "\n",
        "training_set = line_table[:n_training]\n",
        "test_set = line_table[n_training:]\n",
        "training_dict = dict(training_set)\n",
        "test_dict = dict(test_set)\n",
        "\n",
        "print(all_categories)\n",
        "print(category_lines['Italian'][:5])\n",
        "print(\"Input dataset size:\", n_data)\n",
        "print(\"Training set size:\", len(training_set))\n",
        "print(\"Test set size:\", len(test_set))"
      ],
      "execution_count": 4,
      "outputs": [
        {
          "output_type": "stream",
          "text": [
            "Ślusàrski -> slusarski\n",
            "['Portuguese', 'Scottish', 'German', 'Vietnamese', 'Italian', 'English', 'Greek', 'Dutch', 'Irish', 'French', 'Spanish', 'Korean', 'Arabic', 'Czech', 'Chinese', 'Russian', 'Polish', 'Japanese']\n",
            "['abandonato', 'abatangelo', 'abatantuono', 'abate', 'abategiovanni']\n",
            "Input dataset size: 20074\n",
            "Training set size: 16059\n",
            "Test set size: 4015\n"
          ],
          "name": "stdout"
        }
      ]
    },
    {
      "metadata": {
        "id": "2CUPz-X84j5m",
        "colab_type": "text"
      },
      "cell_type": "markdown",
      "source": [
        "# Initialize Network with Hyperparameters"
      ]
    },
    {
      "metadata": {
        "id": "Jo60XGznI_Ul",
        "colab_type": "code",
        "outputId": "dec162a5-0908-4180-8c39-9aa4a60d5759",
        "colab": {
          "base_uri": "https://localhost:8080/",
          "height": 34
        }
      },
      "cell_type": "code",
      "source": [
        "# Hyperparameters\n",
        "n_letters = len(all_letters)\n",
        "n_categories = len(all_categories)\n",
        "learning_rate = 0.001\n",
        "\n",
        "# Initialize net & training settings\n",
        "net = DiffPlastRNN(n_letters, n_categories)\n",
        "loss_func = nn.NLLLoss() # negative log likelihood loss\n",
        "optimizer = torch.optim.Adam(net.parameters(), lr=learning_rate) # Adam optimizer - more nuanced than basic grad desc\n",
        "\n",
        "# Enable CUDA if available\n",
        "use_cuda = True\n",
        "if use_cuda and torch.cuda.is_available():\n",
        "    net.cuda()\n",
        "    net.checkCuda()\n",
        "    print(\"Using CUDA!\")\n",
        "else:\n",
        "    net.cpu()\n",
        "    print(\"Using CPU!\")"
      ],
      "execution_count": 5,
      "outputs": [
        {
          "output_type": "stream",
          "text": [
            "Using CUDA!\n"
          ],
          "name": "stdout"
        }
      ]
    },
    {
      "metadata": {
        "id": "kEFARp9v7QwY",
        "colab_type": "text"
      },
      "cell_type": "markdown",
      "source": [
        "# Define training & predicting methods"
      ]
    },
    {
      "metadata": {
        "id": "PtYxp61bsz1y",
        "colab_type": "code",
        "colab": {}
      },
      "cell_type": "code",
      "source": [
        "def getTrainingExample(index):\n",
        "    line, category_id = training_set[index]\n",
        "    category = all_categories[category_id]\n",
        "    category_tensor = torch.tensor([category_id], dtype=torch.long)\n",
        "    line_tensor = lineToTensor(line)\n",
        "    return category, line, category_tensor.cuda(), line_tensor.cuda()\n",
        "\n",
        "def getTestExample(index):\n",
        "    line, category_id = test_set[index]\n",
        "    category = all_categories[category_id]\n",
        "    category_tensor = torch.tensor([category_id], dtype=torch.long)\n",
        "    line_tensor = lineToTensor(line)\n",
        "    return category, line, category_tensor.cuda(), line_tensor.cuda()\n",
        "\n",
        "def train(category_tensor, line_tensor):\n",
        "    x_in = net.initialZeroState().cuda()\n",
        "    hebb = net.initialZeroHebb().cuda()\n",
        "\n",
        "    net.zero_grad()\n",
        "\n",
        "    for i in range(line_tensor.size()[0]):\n",
        "        x_in, hebb, output = net(line_tensor[i], x_in, hebb)\n",
        "\n",
        "    loss = loss_func(output, category_tensor)\n",
        "    loss.backward()\n",
        "    optimizer.step()\n",
        "\n",
        "    return output, loss.item()\n",
        "\n",
        "def test(category_tensor, line_tensor):\n",
        "    x_in = net.initialZeroState().cuda()\n",
        "    hebb = net.initialZeroHebb().cuda()\n",
        "\n",
        "    for i in range(line_tensor.size()[0]):\n",
        "        x_in, hebb, output = net(line_tensor[i], x_in, hebb)\n",
        "\n",
        "    loss = loss_func(output, category_tensor)\n",
        "    return output, loss.item()\n",
        "\n",
        "def evaluate(line_tensor):\n",
        "    x_in = net.initialZeroState().cuda()\n",
        "    hebb = net.initialZeroHebb().cuda()\n",
        "\n",
        "    for i in range(line_tensor.size()[0]):\n",
        "        x_in, hebb, output = net(line_tensor[i], x_in, hebb)\n",
        "\n",
        "    return output\n",
        "\n",
        "def predict(input_line, n_predictions=3):\n",
        "    print('\\n> %s' % input_line)\n",
        "    with torch.no_grad():\n",
        "        line = unicodeToAscii(input_line)\n",
        "        \n",
        "        if line in training_dict:\n",
        "            print(line, \"found in training dataset, category\", all_categories[training_dict['line']])\n",
        "        else:\n",
        "            print(line, \"not found in training dataset\")\n",
        "        \n",
        "        output = evaluate(lineToTensor(line).cuda())\n",
        "\n",
        "        # Get top N categories\n",
        "        topv, topi = output.topk(n_predictions, 1, True)\n",
        "        predictions = []\n",
        "\n",
        "        for i in range(n_predictions):\n",
        "            value = topv[0][i].item()\n",
        "            category_index = topi[0][i].item()\n",
        "            print('(%.2f) %s' % (value, all_categories[category_index]))\n",
        "            predictions.append([value, all_categories[category_index]])"
      ],
      "execution_count": 0,
      "outputs": []
    },
    {
      "metadata": {
        "id": "oOCX7LMq7gBm",
        "colab_type": "text"
      },
      "cell_type": "markdown",
      "source": [
        "# Train Model on Training Set"
      ]
    },
    {
      "metadata": {
        "id": "iEvbNABZpwId",
        "colab_type": "code",
        "colab": {}
      },
      "cell_type": "code",
      "source": [
        "import time\n",
        "import math\n",
        "\n",
        "def categoryFromOutput(output):\n",
        "    top_n, top_i = output.data.topk(1) # Tensor out of Variable with .data\n",
        "    category_i = top_i[0][0]\n",
        "    return all_categories[category_i], category_i\n",
        "\n",
        "def timeSince(since):\n",
        "    now = time.time()\n",
        "    s = now - since\n",
        "    m = math.floor(s / 60)\n",
        "    s -= m * 60\n",
        "    return '%dm %ds' % (m, s)"
      ],
      "execution_count": 0,
      "outputs": []
    },
    {
      "metadata": {
        "id": "w19yUmlPCvUj",
        "colab_type": "code",
        "outputId": "37c2720e-e6c4-43d8-d777-5810b9fef6c9",
        "colab": {
          "base_uri": "https://localhost:8080/",
          "height": 187
        }
      },
      "cell_type": "code",
      "source": [
        "# Train\n",
        "start = time.time()\n",
        "\n",
        "training_losses = []\n",
        "\n",
        "n_iters = n_training\n",
        "print_every = n_iters // 10\n",
        "plot_every = n_iters // 100\n",
        "\n",
        "print_loss = 0\n",
        "plot_loss = 0\n",
        "\n",
        "for iter in range(0, n_iters):\n",
        "    category, line, category_tensor, line_tensor = getTrainingExample(iter)\n",
        "    output, loss = train(category_tensor, line_tensor)\n",
        "    print_loss += loss\n",
        "    plot_loss += loss\n",
        "\n",
        "    # Print iter number, loss, name and guess\n",
        "    if (iter + 1) % print_every == 0:\n",
        "        guess, guess_i = categoryFromOutput(output)\n",
        "        correct = '✓' if guess == category else '✗ (%s)' % category\n",
        "        print('%d\\t%d%%\\t(%s) \\t%.4f %s / %s %s' % (iter, iter / n_iters * 100, timeSince(start), print_loss / print_every, line, guess, correct))\n",
        "        print_loss = 0\n",
        "\n",
        "    # Add current loss avg to list of losses\n",
        "    if (iter + 1) % plot_every == 0:\n",
        "        training_losses.append(plot_loss / plot_every)\n",
        "        plot_loss = 0"
      ],
      "execution_count": 8,
      "outputs": [
        {
          "output_type": "stream",
          "text": [
            "1604\t9%\t(0m 24s) \t1.8618 issa / English ✗ (Arabic)\n",
            "3209\t19%\t(0m 49s) \t1.5622 avinov / Russian ✓\n",
            "4814\t29%\t(1m 14s) \t1.4374 agostini / English ✗ (Italian)\n",
            "6419\t39%\t(1m 39s) \t1.3379 hilyuk / Russian ✓\n",
            "8024\t49%\t(2m 4s) \t1.2785 voigt / English ✗ (German)\n",
            "9629\t59%\t(2m 28s) \t1.1764 vann / English ✗ (Dutch)\n",
            "11234\t69%\t(2m 53s) \t1.1732 birut / Arabic ✗ (Russian)\n",
            "12839\t79%\t(3m 19s) \t1.1291 morcos / English ✗ (Arabic)\n",
            "14444\t89%\t(3m 44s) \t1.0852 elfman / English ✓\n",
            "16049\t99%\t(4m 8s) \t1.0510 mustafa / Russian ✗ (Arabic)\n"
          ],
          "name": "stdout"
        }
      ]
    },
    {
      "metadata": {
        "id": "Lh3S8lj6Gfti",
        "colab_type": "code",
        "colab": {
          "base_uri": "https://localhost:8080/",
          "height": 34
        },
        "outputId": "79f905de-fa59-4cb4-c83e-9210e4479f14"
      },
      "cell_type": "code",
      "source": [
        "# Test\n",
        "start = time.time()\n",
        "\n",
        "n_iters = n_test\n",
        "total_test_loss = 0\n",
        "\n",
        "for iter in range(0, n_iters):\n",
        "    category, line, category_tensor, line_tensor = getTestExample(iter)\n",
        "    output, loss = test(category_tensor, line_tensor)\n",
        "    total_test_loss += loss\n",
        "\n",
        "test_loss = total_test_loss / n_test\n",
        "print(\"Test loss:\", test_loss)"
      ],
      "execution_count": 12,
      "outputs": [
        {
          "output_type": "stream",
          "text": [
            "1.1114583170131906\n"
          ],
          "name": "stdout"
        }
      ]
    },
    {
      "metadata": {
        "id": "FlIbDEyNSoWg",
        "colab_type": "text"
      },
      "cell_type": "markdown",
      "source": [
        "# Plot training loss\n",
        "Horizontal line is test loss"
      ]
    },
    {
      "metadata": {
        "id": "uof2bcfIK5n7",
        "colab_type": "code",
        "outputId": "76893bdf-f6e8-466f-9a4c-89b786a11263",
        "colab": {
          "base_uri": "https://localhost:8080/",
          "height": 364
        }
      },
      "cell_type": "code",
      "source": [
        "import matplotlib.pyplot as plt\n",
        "\n",
        "plt.figure()\n",
        "plt.plot(training_losses)\n",
        "plt.hlines(test_loss, 0, 100)\n",
        "\n",
        "#torch.save(net.state_dict(), 'model.pkl')"
      ],
      "execution_count": 15,
      "outputs": [
        {
          "output_type": "execute_result",
          "data": {
            "text/plain": [
              "<matplotlib.collections.LineCollection at 0x7f5f153e7320>"
            ]
          },
          "metadata": {
            "tags": []
          },
          "execution_count": 15
        },
        {
          "output_type": "display_data",
          "data": {
            "image/png": "[encoded data removed]",
            "text/plain": [
              "<matplotlib.figure.Figure at 0x7f5f153c40b8>"
            ]
          },
          "metadata": {
            "tags": []
          }
        }
      ]
    },
    {
      "metadata": {
        "id": "x571BELbjxVI",
        "colab_type": "code",
        "outputId": "b3eeb207-47a4-4a13-b75c-04549ebb7781",
        "colab": {
          "base_uri": "https://localhost:8080/",
          "height": 323
        }
      },
      "cell_type": "code",
      "source": [
        "predict('Dovesky')\n",
        "predict('Jackson')\n",
        "predict('Satoshi')\n",
        "\n"
      ],
      "execution_count": 11,
      "outputs": [
        {
          "output_type": "stream",
          "text": [
            "\n",
            "> Dovesky\n",
            "dovesky not found in training dataset\n",
            "(-0.11) Russian\n",
            "(-3.04) English\n",
            "(-4.03) Czech\n",
            "\n",
            "> Jackson\n",
            "jackson not found in training dataset\n",
            "(-0.58) Russian\n",
            "(-1.24) English\n",
            "(-2.66) Arabic\n",
            "\n",
            "> Satoshi\n",
            "satoshi not found in training dataset\n",
            "(-0.53) Arabic\n",
            "(-2.33) Japanese\n",
            "(-2.54) Italian\n"
          ],
          "name": "stdout"
        }
      ]
    }
  ]
}