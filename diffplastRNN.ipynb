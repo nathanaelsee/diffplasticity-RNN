{
  "nbformat": 4,
  "nbformat_minor": 0,
  "metadata": {
    "colab": {
      "name": "diffplastRNN.ipynb",
      "version": "0.3.2",
      "provenance": [],
      "collapsed_sections": [],
      "include_colab_link": true
    },
    "kernelspec": {
      "name": "python3",
      "display_name": "Python 3"
    },
    "accelerator": "GPU"
  },
  "cells": [
    {
      "cell_type": "markdown",
      "metadata": {
        "id": "view-in-github",
        "colab_type": "text"
      },
      "source": [
        "<a href=\"https://colab.research.google.com/github/nathanaelsee/diffplasticity-RNN/blob/master/diffplastRNN.ipynb\" target=\"_parent\"><img src=\"https://colab.research.google.com/assets/colab-badge.svg\" alt=\"Open In Colab\"/></a>"
      ]
    },
    {
      "metadata": {
        "id": "9iqFvKNk4H-p",
        "colab_type": "text"
      },
      "cell_type": "markdown",
      "source": [
        "# Differentiable Plasticity RNN\n",
        "## An Extension of Uber's Differentiable Plasticity:\n",
        "https://github.com/uber-research/differentiable-plasticity/\n",
        "\n",
        "Testing the effectiveness of the differentiable plasticity network as an RNN model\n",
        "\n",
        "## Examples/tutorials used:\n",
        "\n",
        "https://pytorch.org/tutorials/intermediate/char_rnn_classification_tutorial.html  \n",
        "https://jovianlin.io/pytorch-with-gpu-in-google-colab/ (for working with Pytorch and CUDA on Google Colab)  "
      ]
    },
    {
      "metadata": {
        "id": "jUdrKNcTHaqe",
        "colab_type": "text"
      },
      "cell_type": "markdown",
      "source": [
        "# Install PyTorch"
      ]
    },
    {
      "metadata": {
        "id": "UrlaSAp1Gt6o",
        "colab_type": "code",
        "outputId": "ec08f001-fe21-434f-c635-627f39e51e40",
        "colab": {
          "base_uri": "https://localhost:8080/",
          "height": 357
        }
      },
      "cell_type": "code",
      "source": [
        "!pip3 install torch\n",
        "    \n",
        "import torch\n",
        "import numpy as np\n",
        "import torch.nn as nn\n",
        "import torch.nn.functional as F\n",
        "from torch.utils import data\n",
        "from torch.autograd import Variable\n",
        "\n",
        "print(\"PyTorch version:\", torch.__version__)\n",
        "print(\"CUDA version:\\t\", torch.version.cuda)\n",
        "!nvidia-smi"
      ],
      "execution_count": 0,
      "outputs": [
        {
          "output_type": "stream",
          "text": [
            "Requirement already satisfied: torch in /usr/local/lib/python3.6/dist-packages (1.0.0)\n",
            "PyTorch version: 1.0.0\n",
            "CUDA version:\t 9.0.176\n",
            "Sat Dec 15 01:44:39 2018       \n",
            "+-----------------------------------------------------------------------------+\n",
            "| NVIDIA-SMI 396.44                 Driver Version: 396.44                    |\n",
            "|-------------------------------+----------------------+----------------------+\n",
            "| GPU  Name        Persistence-M| Bus-Id        Disp.A | Volatile Uncorr. ECC |\n",
            "| Fan  Temp  Perf  Pwr:Usage/Cap|         Memory-Usage | GPU-Util  Compute M. |\n",
            "|===============================+======================+======================|\n",
            "|   0  Tesla K80           Off  | 00000000:00:04.0 Off |                    0 |\n",
            "| N/A   33C    P8    29W / 149W |      0MiB / 11441MiB |      0%      Default |\n",
            "+-------------------------------+----------------------+----------------------+\n",
            "                                                                               \n",
            "+-----------------------------------------------------------------------------+\n",
            "| Processes:                                                       GPU Memory |\n",
            "|  GPU       PID   Type   Process name                             Usage      |\n",
            "|=============================================================================|\n",
            "|  No running processes found                                                 |\n",
            "+-----------------------------------------------------------------------------+\n"
          ],
          "name": "stdout"
        }
      ]
    },
    {
      "metadata": {
        "colab_type": "text",
        "id": "1wrQjc-Vfr-z"
      },
      "cell_type": "markdown",
      "source": [
        "# Download Dataset\n",
        "\n",
        "Dataset of names and their lingustic backgrounds taken from https://pytorch.org/tutorials/intermediate/char_rnn_classification_tutorial.html"
      ]
    },
    {
      "metadata": {
        "id": "9qZFluUHlqTb",
        "colab_type": "code",
        "colab": {}
      },
      "cell_type": "code",
      "source": [
        "import os\n",
        "\n",
        "if os.path.exists('data/names') == False:\n",
        "    !wget https://download.pytorch.org/tutorial/data.zip\n",
        "    !unzip data.zip"
      ],
      "execution_count": 0,
      "outputs": []
    },
    {
      "metadata": {
        "id": "fuLOBtJpevvp",
        "colab_type": "text"
      },
      "cell_type": "markdown",
      "source": [
        "# Process Dataset into Training & Test sets\n",
        "Using a random 90-10 split on each category to preserve the dataset ratios"
      ]
    },
    {
      "metadata": {
        "id": "V0uP08SCoAlF",
        "colab_type": "code",
        "outputId": "74010727-9d2c-4d29-9478-8c67785e537b",
        "colab": {
          "base_uri": "https://localhost:8080/",
          "height": 391
        }
      },
      "cell_type": "code",
      "source": [
        "from __future__ import unicode_literals, division\n",
        "from io import open\n",
        "import unicodedata\n",
        "import string\n",
        "import glob\n",
        "import random\n",
        "\n",
        "all_letters = string.ascii_lowercase + \" .,;'\"\n",
        "n_letters = len(all_letters)\n",
        "\n",
        "# Turn a Unicode string to plain ASCII, thanks to http://stackoverflow.com/a/518232/2809427\n",
        "def unicodeToAscii(s):\n",
        "    s = s.lower()\n",
        "    return ''.join(\n",
        "        c for c in unicodedata.normalize('NFD', s)\n",
        "        if unicodedata.category(c) != 'Mn'\n",
        "        and c in all_letters\n",
        "    )\n",
        "\n",
        "def letterToIndex(letter):\n",
        "    return all_letters.find(letter)\n",
        "\n",
        "print('Ślusàrski ->', unicodeToAscii('Ślusàrski'))\n",
        "\n",
        "# Build the category_lines dictionary, a list of names per language\n",
        "category_lines = {}\n",
        "all_lines = []\n",
        "line_table = []\n",
        "all_categories = []\n",
        "\n",
        "# Read a file and split into lines\n",
        "def readLines(filename):\n",
        "    lines = open(filename, encoding='utf-8').read().strip().split('\\n')\n",
        "    return [unicodeToAscii(line) for line in lines]\n",
        "\n",
        "# One-hot vector per character\n",
        "def lineToTensor(line):\n",
        "    tensor = torch.zeros(len(line), 1, n_letters)\n",
        "    for li, letter in enumerate(line):\n",
        "        tensor[li][0][letterToIndex(letter)] = 1\n",
        "    return tensor\n",
        "\n",
        "# Split data into training and test sets\n",
        "ratio = 0.9\n",
        "\n",
        "training_set = []\n",
        "test_set = []\n",
        "\n",
        "category_id = 0\n",
        "for filename in glob.glob('data/names/*.txt'):\n",
        "    \n",
        "    category = os.path.splitext(os.path.basename(filename))[0]\n",
        "    # Hack: to reduce dataset bias\n",
        "    #if category == \"Russian\" or category == \"English\": continue\n",
        "    all_categories.append(category)\n",
        "    \n",
        "    lines = readLines(filename)\n",
        "    random.shuffle(lines)\n",
        "    \n",
        "    # Hack: to reduce dataset bias\n",
        "    #if category == \"Russian\" or category == \"English\": lines = lines[:3000]\n",
        "    \n",
        "    category_lines[category] = lines\n",
        "    table = [(line, category_id, lineToTensor(line)) for line in lines]\n",
        "    \n",
        "    # Split category to training/test sets\n",
        "    tmp = int(len(table) * ratio)\n",
        "    training_set += table[:tmp]\n",
        "    test_set += table[tmp:]\n",
        "    \n",
        "    all_lines += lines\n",
        "    line_table += table\n",
        "    \n",
        "    category_id += 1\n",
        "\n",
        "n_data = len(all_lines)\n",
        "n_training = len(training_set)\n",
        "n_test = len(test_set)\n",
        "\n",
        "#random.shuffle(line_table)\n",
        "random.shuffle(training_set)\n",
        "random.shuffle(test_set)\n",
        "\n",
        "#training_set = line_table[:n_training]\n",
        "#test_set = line_table[n_training:]\n",
        "training_dict = {line:(cat, tensor) for line, cat, tensor in training_set}\n",
        "test_dict = {line:(cat, tensor) for line, cat, tensor in test_set}\n",
        "\n",
        "for category in all_categories :\n",
        "    print('%s:   \\t%d' % (category, len(category_lines[category])))\n",
        "print(\"Input dataset size:\", n_data)\n",
        "print(\"Training set size:\", len(training_set))\n",
        "print(\"Test set size:\", len(test_set))"
      ],
      "execution_count": 0,
      "outputs": [
        {
          "output_type": "stream",
          "text": [
            "Ślusàrski -> slusarski\n",
            "Spanish:   \t298\n",
            "English:   \t3668\n",
            "Irish:   \t232\n",
            "Portuguese:   \t74\n",
            "Arabic:   \t2000\n",
            "Vietnamese:   \t73\n",
            "Chinese:   \t268\n",
            "French:   \t277\n",
            "Greek:   \t203\n",
            "Dutch:   \t297\n",
            "German:   \t724\n",
            "Scottish:   \t100\n",
            "Polish:   \t139\n",
            "Czech:   \t519\n",
            "Russian:   \t9408\n",
            "Korean:   \t94\n",
            "Italian:   \t709\n",
            "Japanese:   \t991\n",
            "Input dataset size: 20074\n",
            "Training set size: 18060\n",
            "Test set size: 2014\n"
          ],
          "name": "stdout"
        }
      ]
    },
    {
      "metadata": {
        "id": "4hgCecJDIi8o",
        "colab_type": "text"
      },
      "cell_type": "markdown",
      "source": [
        "# Build the model\n",
        "\n",
        "Credits to Uber: https://github.com/uber-research/differentiable-plasticity/  \n",
        "Modifications made to original sample code."
      ]
    },
    {
      "metadata": {
        "id": "QQK4vsUchWCg",
        "colab_type": "code",
        "colab": {}
      },
      "cell_type": "code",
      "source": [
        "class DiffPlastRNN(nn.Module):\n",
        "    def __init__(self, input_size, num_classes):\n",
        "        \n",
        "        super(DiffPlastRNN, self).__init__()\n",
        "        self.input_size = input_size\n",
        "        \n",
        "        # Initialize trainable parameters\n",
        "        self.w     = nn.Parameter(.01 * torch.randn(input_size, input_size), requires_grad=True) # The matrix of fixed (baseline) weights\n",
        "        self.alpha = nn.Parameter(.01 * torch.randn(input_size, input_size), requires_grad=True) # The matrix of plasticity coefficients\n",
        "        self.eta   = nn.Parameter(.01 * torch.ones(1),                       requires_grad=True) # The \"learning rate\" of plasticity - scalar-valued\n",
        "        \n",
        "        # 2-layer MLP on top of hidden state for classification\n",
        "        self.l1 = nn.Linear(input_size, input_size)\n",
        "        self.nonlin = nn.Tanh()\n",
        "        self.l2 = nn.Linear(input_size, num_classes)\n",
        "        self.softmax = nn.LogSoftmax(dim=1)           # Softmax layer on classification\n",
        "\n",
        "    # Run the network for one timestep\n",
        "    def forward(self, input, x_in, hebb):\n",
        "        \n",
        "        # hidden state - using tanh as non-linearity, as per paper\n",
        "        x_out = torch.tanh( x_in.mm(self.w + torch.mul(self.alpha, hebb)) + input )\n",
        "        \n",
        "        # Hebbian trace\n",
        "        hebb = (1 - self.eta) * hebb + self.eta * torch.bmm(x_in.unsqueeze(2), x_out.unsqueeze(1))[0] \n",
        "        # bmm here is used to implement an outer product between yin and yout, with the help of unsqueeze (i.e. added empty dimensions)\n",
        "        \n",
        "        # log softmax output for classification\n",
        "        output = self.softmax(self.l2(self.nonlin(self.l1(x_out))))\n",
        "        \n",
        "        return x_out, hebb, output\n",
        "\n",
        "    # RuntimeError if not using CUDA\n",
        "    def checkCuda(self):\n",
        "        self.w.get_device()\n",
        "        self.alpha.get_device()\n",
        "        self.eta.get_device()\n",
        "        \n",
        "    # Return an initialized, all-zero hidden state\n",
        "    def initialZeroState(self):\n",
        "        return torch.zeros(1, self.input_size)\n",
        "\n",
        "    # Return an initialized, all-zero Hebbian trace\n",
        "    def initialZeroHebb(self):\n",
        "        return torch.zeros(self.input_size, self.input_size)"
      ],
      "execution_count": 0,
      "outputs": []
    },
    {
      "metadata": {
        "id": "2CUPz-X84j5m",
        "colab_type": "text"
      },
      "cell_type": "markdown",
      "source": [
        "# Initialize Network with Hyperparameters"
      ]
    },
    {
      "metadata": {
        "id": "Jo60XGznI_Ul",
        "colab_type": "code",
        "outputId": "8e772d1c-6290-4631-cb3a-065337d5a007",
        "colab": {
          "base_uri": "https://localhost:8080/",
          "height": 34
        }
      },
      "cell_type": "code",
      "source": [
        "# Hyperparameters\n",
        "n_letters = len(all_letters)\n",
        "n_categories = len(all_categories)\n",
        "learning_rate = 0.0001\n",
        "\n",
        "# Initialize net & training settings\n",
        "net = DiffPlastRNN(n_letters, n_categories)\n",
        "loss_func = nn.NLLLoss() # negative log likelihood loss\n",
        "optimizer = torch.optim.Adam(net.parameters(), lr=learning_rate) # Adam optimizer - more nuanced than basic grad desc\n",
        "\n",
        "# Load from model info if previously saved\n",
        "if os.path.exists('model.pt') == True:\n",
        "    net = torch.load('model.pt')\n",
        "    print(\"Pre-trained model data loaded\")\n",
        "\n",
        "# Enable CUDA if available\n",
        "if torch.cuda.is_available():\n",
        "    net.cuda()\n",
        "    net.checkCuda()\n",
        "    print(\"Using CUDA!\")\n",
        "else:\n",
        "    net.cpu()\n",
        "    print(\"Using CPU!\")"
      ],
      "execution_count": 0,
      "outputs": [
        {
          "output_type": "stream",
          "text": [
            "Using CUDA!\n"
          ],
          "name": "stdout"
        }
      ]
    },
    {
      "metadata": {
        "id": "kEFARp9v7QwY",
        "colab_type": "text"
      },
      "cell_type": "markdown",
      "source": [
        "# Define training & predicting methods"
      ]
    },
    {
      "metadata": {
        "id": "PtYxp61bsz1y",
        "colab_type": "code",
        "colab": {}
      },
      "cell_type": "code",
      "source": [
        "def getExample(index, dataset):\n",
        "    line, category_id, line_tensor = dataset[index]\n",
        "    category = all_categories[category_id]\n",
        "    category_tensor = torch.tensor([category_id], dtype=torch.long)\n",
        "    return category, line, category_tensor.cuda(), line_tensor.cuda()\n",
        "\n",
        "def iterate(category_tensor, line_tensor, train=True):\n",
        "    x_in = net.initialZeroState().cuda()\n",
        "    hebb = net.initialZeroHebb().cuda()\n",
        "\n",
        "    optimizer.zero_grad()\n",
        "\n",
        "    for i in range(line_tensor.size()[0]):\n",
        "        x_in, hebb, output = net(line_tensor[i], x_in, hebb)\n",
        "\n",
        "    loss = loss_func(output, category_tensor)\n",
        "    if train:\n",
        "        loss.backward()\n",
        "        optimizer.step()\n",
        "\n",
        "    return output, loss.item()\n",
        "\n",
        "def evaluate(line_tensor):\n",
        "    x_in = net.initialZeroState().cuda()\n",
        "    hebb = net.initialZeroHebb().cuda()\n",
        "\n",
        "    for i in range(line_tensor.size()[0]):\n",
        "        x_in, hebb, output = net(line_tensor[i], x_in, hebb)\n",
        "\n",
        "    return output\n",
        "\n",
        "def predict(input_line, n_predictions=3):\n",
        "    print('\\n> %s' % input_line)\n",
        "    with torch.no_grad():\n",
        "        line = unicodeToAscii(input_line)\n",
        "        \n",
        "        if line in training_dict:\n",
        "            print(line, \"found in training dataset, category\", all_categories[training_dict[line][0]])\n",
        "        else:\n",
        "            print(line, \"not found in training dataset\")\n",
        "            if line in test_dict:\n",
        "                print(line, \"found in test dataset, category\", all_categories[test_dict[line][0]])\n",
        "            else:\n",
        "                print(line, \"not found in dataset\")\n",
        "        \n",
        "        output = evaluate(lineToTensor(line).cuda())\n",
        "\n",
        "        # Get top N categories\n",
        "        topv, topi = output.topk(n_predictions, 1, True)\n",
        "        predictions = []\n",
        "\n",
        "        for i in range(n_predictions):\n",
        "            value = topv[0][i].item()\n",
        "            category_index = topi[0][i].item()\n",
        "            print('(%.2f%%) %s' % (np.exp(value) * 100, all_categories[category_index]))\n",
        "            predictions.append([value, all_categories[category_index]])\n",
        "\n",
        "def categoryFromOutput(output):\n",
        "    top_n, top_i = output.data.topk(1) # Tensor out of Variable with .data\n",
        "    category_i = top_i[0][0]\n",
        "    return all_categories[category_i], category_i"
      ],
      "execution_count": 0,
      "outputs": []
    },
    {
      "metadata": {
        "id": "oOCX7LMq7gBm",
        "colab_type": "text"
      },
      "cell_type": "markdown",
      "source": [
        "# Train Model on Training Set\n",
        "Running 20 epochs, each epoch is a forward pass and backward pass over the shuffled training set.    \n",
        "Test set is also iterated over to collect test loss for plotting"
      ]
    },
    {
      "metadata": {
        "id": "b0jb1EM1uf0x",
        "colab_type": "code",
        "colab": {}
      },
      "cell_type": "code",
      "source": [
        "import time\n",
        "import math\n",
        "\n",
        "def timeSince(since):\n",
        "    now = time.time()\n",
        "    s = now - since\n",
        "    m = math.floor(s / 60)\n",
        "    s -= m * 60\n",
        "    return '%dm %ds' % (m, s)"
      ],
      "execution_count": 0,
      "outputs": []
    },
    {
      "metadata": {
        "id": "w19yUmlPCvUj",
        "colab_type": "code",
        "colab": {}
      },
      "cell_type": "code",
      "source": [
        "training_losses = []\n",
        "test_losses = []\n",
        "start = time.time()\n",
        "def train(training_losses, test_losses):\n",
        "    \n",
        "    n_iters = n_training\n",
        "    print_every = n_iters // 1\n",
        "    plot_every = n_iters // 10\n",
        "\n",
        "    print_loss = 0\n",
        "    plot_loss = 0\n",
        "    n_corr = 0\n",
        "\n",
        "    print(\" Done   | Time Elapsed  | Avg Loss | Accuracy | Input / Guess (Actual)\")\n",
        "    print(\"---------------------------------------------------------------------------------\")\n",
        "    for iter in range(0, n_iters):\n",
        "        category, line, category_tensor, line_tensor = getExample(iter, training_set)\n",
        "        output, loss = iterate(category_tensor, line_tensor)\n",
        "        guess, guess_i = categoryFromOutput(output)\n",
        "        if guess == category: n_corr += 1\n",
        "        print_loss += loss\n",
        "        plot_loss += loss\n",
        "\n",
        "        # Print iter number, loss, name and guess\n",
        "        if (iter + 1) % print_every == 0:\n",
        "            guess, guess_i = categoryFromOutput(output)\n",
        "            correct = '✓' if guess == category else '✗ (%s)' % category\n",
        "            print(' %d%%\\t|   %s\\t|  %.4f  |  %.2f%%  | %s / %s %s' % ((iter + 1) / n_iters * 50, timeSince(start), print_loss / print_every, n_corr / print_every * 100, line, guess, correct))\n",
        "            print_loss = 0\n",
        "            n_corr = 0\n",
        "\n",
        "        # Add current loss avg to list of losses\n",
        "        if (iter + 1) % plot_every == 0:\n",
        "            training_losses.append(plot_loss / plot_every)\n",
        "            plot_loss = 0\n",
        "            test(test_losses)\n",
        "            \n",
        "    print_loss = 0\n",
        "    plot_loss = 0\n",
        "    n_corr = 0\n",
        "\n",
        "    for iter in range(1, n_iters + 1):\n",
        "        category, line, category_tensor, line_tensor = getExample(n_iters - iter, training_set)\n",
        "        output, loss = iterate(category_tensor, line_tensor)\n",
        "        guess, guess_i = categoryFromOutput(output)\n",
        "        if guess == category: n_corr += 1\n",
        "        print_loss += loss\n",
        "        plot_loss += loss\n",
        "\n",
        "        # Print iter number, loss, name and guess\n",
        "        if iter % print_every == 0:\n",
        "            guess, guess_i = categoryFromOutput(output)\n",
        "            correct = '✓' if guess == category else '✗ (%s)' % category\n",
        "            print(' %d%%\\t|   %s\\t|  %.4f  |  %.2f%%  | %s / %s %s' % (iter / n_iters * 50 + 50, timeSince(start), print_loss / print_every, n_corr / print_every * 100, line, guess, correct))\n",
        "            print_loss = 0\n",
        "            n_corr = 0\n",
        "\n",
        "        # Add current loss avg to list of losses\n",
        "        if iter % plot_every == 0:\n",
        "            training_losses.append(plot_loss / plot_every)\n",
        "            plot_loss = 0\n",
        "            test(test_losses)\n",
        "\n",
        "    \n",
        "def test(test_losses, cm = False):\n",
        "    \n",
        "    test_start = time.time()\n",
        "\n",
        "    total_test_loss = 0\n",
        "    correct = 0\n",
        "\n",
        "    for iter in range(0, n_test):\n",
        "        category, line, category_tensor, line_tensor = getExample(iter, test_set)\n",
        "        output, loss = iterate(category_tensor, line_tensor, train=False)\n",
        "        total_test_loss += loss\n",
        "\n",
        "        guess, guess_i = categoryFromOutput(output)\n",
        "        if guess == category: correct += 1\n",
        "        category_i = all_categories.index(category)\n",
        "        if cm: confusion[category_i][guess_i] += 1\n",
        "\n",
        "    test_loss = total_test_loss / n_test\n",
        "    accuracy = correct / n_test\n",
        "    test_losses.append(test_loss)\n",
        "    \n",
        "    if cm: print(\"Test time taken:\", timeSince(test_start), \", loss: %.4f, accuracy: %.4f%%\" % (test_loss, accuracy * 100))"
      ],
      "execution_count": 0,
      "outputs": []
    },
    {
      "metadata": {
        "id": "reHVwBM0VV8g",
        "colab_type": "code",
        "outputId": "9095a6b1-9e46-4508-a162-212f14c785b5",
        "colab": {
          "base_uri": "https://localhost:8080/",
          "height": 1717
        }
      },
      "cell_type": "code",
      "source": [
        "epochs = 20\n",
        "for i in range(epochs):\n",
        "    random.shuffle(training_set)\n",
        "    print(\"Epoch\", i+1)\n",
        "    train(training_losses, test_losses)"
      ],
      "execution_count": 9,
      "outputs": [
        {
          "output_type": "stream",
          "text": [
            "Epoch 1\n",
            " Done   | Time Elapsed  | Avg Loss | Accuracy | Input / Guess (Actual)\n",
            "---------------------------------------------------------------------------------\n",
            " 50%\t|   8m 33s\t|  1.6608  |  50.57%  | ronflard / English ✓\n",
            " 100%\t|   17m 29s\t|  1.3308  |  60.84%  | brain / Russian ✗ (English)\n",
            "Epoch 2\n",
            " Done   | Time Elapsed  | Avg Loss | Accuracy | Input / Guess (Actual)\n",
            "---------------------------------------------------------------------------------\n",
            " 50%\t|   26m 28s\t|  1.1906  |  65.61%  | hevrolin / Russian ✓\n",
            " 100%\t|   35m 26s\t|  1.1025  |  68.32%  | gorskikh / Russian ✓\n",
            "Epoch 3\n",
            " Done   | Time Elapsed  | Avg Loss | Accuracy | Input / Guess (Actual)\n",
            "---------------------------------------------------------------------------------\n",
            " 50%\t|   44m 27s\t|  1.0492  |  69.69%  | bekoryukov / Russian ✓\n",
            " 100%\t|   53m 27s\t|  1.0120  |  70.54%  | ponurovsky / Russian ✓\n",
            "Epoch 4\n",
            " Done   | Time Elapsed  | Avg Loss | Accuracy | Input / Guess (Actual)\n",
            "---------------------------------------------------------------------------------\n",
            " 50%\t|   62m 27s\t|  0.9847  |  71.60%  | handzlik / Russian ✗ (Czech)\n",
            " 100%\t|   71m 30s\t|  0.9615  |  72.01%  | dzhabruev / Russian ✓\n",
            "Epoch 5\n",
            " Done   | Time Elapsed  | Avg Loss | Accuracy | Input / Guess (Actual)\n",
            "---------------------------------------------------------------------------------\n",
            " 50%\t|   80m 31s\t|  0.9417  |  72.64%  | tudor / Arabic ✗ (English)\n",
            " 100%\t|   89m 29s\t|  0.9232  |  72.91%  | autenburg / Russian ✗ (German)\n",
            "Epoch 6\n",
            " Done   | Time Elapsed  | Avg Loss | Accuracy | Input / Guess (Actual)\n",
            "---------------------------------------------------------------------------------\n",
            " 50%\t|   98m 21s\t|  0.9085  |  73.21%  | pavkin / Russian ✓\n",
            " 100%\t|   107m 21s\t|  0.8933  |  73.66%  | abudikhin / Russian ✓\n",
            "Epoch 7\n",
            " Done   | Time Elapsed  | Avg Loss | Accuracy | Input / Guess (Actual)\n",
            "---------------------------------------------------------------------------------\n",
            " 50%\t|   116m 18s\t|  0.8798  |  73.95%  | piffer / English ✗ (Russian)\n",
            " 100%\t|   125m 16s\t|  0.8665  |  74.00%  | bissette / English ✗ (French)\n",
            "Epoch 8\n",
            " Done   | Time Elapsed  | Avg Loss | Accuracy | Input / Guess (Actual)\n",
            "---------------------------------------------------------------------------------\n",
            " 50%\t|   134m 14s\t|  0.8536  |  74.32%  | gaschenkov / Russian ✓\n",
            " 100%\t|   143m 9s\t|  0.8420  |  74.49%  | elez / German ✗ (Russian)\n",
            "Epoch 9\n",
            " Done   | Time Elapsed  | Avg Loss | Accuracy | Input / Guess (Actual)\n",
            "---------------------------------------------------------------------------------\n",
            " 50%\t|   152m 10s\t|  0.8325  |  74.67%  | bazulin / Russian ✓\n",
            " 100%\t|   161m 10s\t|  0.8223  |  75.04%  | zhilyaev / Russian ✓\n",
            "Epoch 10\n",
            " Done   | Time Elapsed  | Avg Loss | Accuracy | Input / Guess (Actual)\n",
            "---------------------------------------------------------------------------------\n",
            " 50%\t|   170m 12s\t|  0.8145  |  75.19%  | liverovsky / Russian ✓\n",
            " 100%\t|   179m 11s\t|  0.8054  |  75.47%  | pecheny / English ✗ (Russian)\n",
            "Epoch 11\n",
            " Done   | Time Elapsed  | Avg Loss | Accuracy | Input / Guess (Actual)\n",
            "---------------------------------------------------------------------------------\n",
            " 50%\t|   188m 9s\t|  0.7989  |  75.61%  | egolin / Russian ✓\n",
            " 100%\t|   197m 4s\t|  0.7903  |  75.99%  | cooke / Japanese ✗ (English)\n",
            "Epoch 12\n",
            " Done   | Time Elapsed  | Avg Loss | Accuracy | Input / Guess (Actual)\n",
            "---------------------------------------------------------------------------------\n",
            " 50%\t|   206m 7s\t|  0.7835  |  76.24%  | marunin / Russian ✓\n",
            " 100%\t|   215m 16s\t|  0.7751  |  76.54%  | dziedzic / Russian ✗ (Polish)\n",
            "Epoch 13\n",
            " Done   | Time Elapsed  | Avg Loss | Accuracy | Input / Guess (Actual)\n",
            "---------------------------------------------------------------------------------\n",
            " 50%\t|   224m 22s\t|  0.7695  |  76.67%  | rekshinsky / Russian ✓\n",
            " 100%\t|   233m 25s\t|  0.7615  |  76.72%  | esaulov / Russian ✓\n",
            "Epoch 14\n",
            " Done   | Time Elapsed  | Avg Loss | Accuracy | Input / Guess (Actual)\n",
            "---------------------------------------------------------------------------------\n",
            " 50%\t|   242m 32s\t|  0.7554  |  77.09%  | jindra / Russian ✗ (Czech)\n",
            " 100%\t|   251m 42s\t|  0.7483  |  77.25%  | awelicheff / Russian ✓\n",
            "Epoch 15\n",
            " Done   | Time Elapsed  | Avg Loss | Accuracy | Input / Guess (Actual)\n",
            "---------------------------------------------------------------------------------\n",
            " 50%\t|   260m 49s\t|  0.7431  |  77.38%  | shima / Japanese ✓\n",
            " 100%\t|   270m 0s\t|  0.7362  |  77.76%  | kessler / German ✗ (Czech)\n",
            "Epoch 16\n",
            " Done   | Time Elapsed  | Avg Loss | Accuracy | Input / Guess (Actual)\n",
            "---------------------------------------------------------------------------------\n",
            " 50%\t|   278m 53s\t|  0.7317  |  77.56%  | beloshitsky / Russian ✓\n",
            " 100%\t|   287m 40s\t|  0.7251  |  78.03%  | absattaroff / Russian ✓\n",
            "Epoch 17\n",
            " Done   | Time Elapsed  | Avg Loss | Accuracy | Input / Guess (Actual)\n",
            "---------------------------------------------------------------------------------\n",
            " 50%\t|   296m 20s\t|  0.7198  |  78.21%  | d arcy / English ✓\n",
            " 100%\t|   305m 4s\t|  0.7135  |  78.33%  | getling / English ✗ (Russian)\n",
            "Epoch 18\n",
            " Done   | Time Elapsed  | Avg Loss | Accuracy | Input / Guess (Actual)\n",
            "---------------------------------------------------------------------------------\n",
            " 50%\t|   313m 50s\t|  0.7094  |  78.43%  | gulenko / Russian ✓\n",
            " 100%\t|   322m 31s\t|  0.7032  |  78.79%  | davydov / Russian ✓\n",
            "Epoch 19\n",
            " Done   | Time Elapsed  | Avg Loss | Accuracy | Input / Guess (Actual)\n",
            "---------------------------------------------------------------------------------\n",
            " 50%\t|   331m 14s\t|  0.6981  |  78.83%  | bazili / Russian ✓\n",
            " 100%\t|   339m 46s\t|  0.6922  |  78.95%  | tuma / Arabic ✓\n",
            "Epoch 20\n",
            " Done   | Time Elapsed  | Avg Loss | Accuracy | Input / Guess (Actual)\n",
            "---------------------------------------------------------------------------------\n",
            " 50%\t|   348m 20s\t|  0.6882  |  79.11%  | pochevalov / Russian ✓\n",
            " 100%\t|   356m 53s\t|  0.6828  |  79.19%  | roijackers / Dutch ✓\n"
          ],
          "name": "stdout"
        }
      ]
    },
    {
      "metadata": {
        "id": "FlIbDEyNSoWg",
        "colab_type": "text"
      },
      "cell_type": "markdown",
      "source": [
        "# Plot loss\n",
        "Red line is training loss    \n",
        "Blue line is test loss"
      ]
    },
    {
      "metadata": {
        "id": "uof2bcfIK5n7",
        "colab_type": "code",
        "colab": {
          "base_uri": "https://localhost:8080/",
          "height": 347
        },
        "outputId": "3a6fa39f-8d31-40a8-b6d0-a3353c281e67"
      },
      "cell_type": "code",
      "source": [
        "import matplotlib.pyplot as plt\n",
        "\n",
        "graph = plt.figure()\n",
        "axes = plt.gca()\n",
        "#axes.set_ylim([0, 2])\n",
        "y = range(len(test_losses))\n",
        "plt.plot(y, test_losses, 'b')\n",
        "plt.plot(y, training_losses, 'r') \n",
        "plt.show()"
      ],
      "execution_count": 10,
      "outputs": [
        {
          "output_type": "display_data",
          "data": {
            "image/png": "[encoded data removed]",
            "text/plain": [
              "<matplotlib.figure.Figure at 0x7faa5b547b38>"
            ]
          },
          "metadata": {
            "tags": []
          }
        }
      ]
    },
    {
      "metadata": {
        "id": "9QDBYueby7Rg",
        "colab_type": "text"
      },
      "cell_type": "markdown",
      "source": [
        "# Confusion Matrix"
      ]
    },
    {
      "metadata": {
        "id": "jLjunHAxgm83",
        "colab_type": "code",
        "colab": {
          "base_uri": "https://localhost:8080/",
          "height": 413
        },
        "outputId": "f1d79463-3c87-487a-ae28-ef2424dba352"
      },
      "cell_type": "code",
      "source": [
        "import matplotlib.ticker as ticker\n",
        "\n",
        "confusion = torch.zeros(n_categories, n_categories)\n",
        "tmp = []\n",
        "test(tmp, cm=True)\n",
        "\n",
        "# Normalize by dividing every row by its sum\n",
        "for i in range(n_categories):\n",
        "    confusion[i] = confusion[i] / confusion[i].sum()\n",
        "\n",
        "# Set up plot\n",
        "fig = plt.figure()\n",
        "ax = fig.add_subplot(111)\n",
        "cax = ax.matshow(confusion.numpy())\n",
        "fig.colorbar(cax)\n",
        "\n",
        "# Set up axes\n",
        "ax.set_xticklabels([''] + all_categories, rotation=90)\n",
        "ax.set_yticklabels([''] + all_categories)\n",
        "\n",
        "# Force label at every tick\n",
        "ax.xaxis.set_major_locator(ticker.MultipleLocator(1))\n",
        "ax.yaxis.set_major_locator(ticker.MultipleLocator(1))\n",
        "\n",
        "# sphinx_gallery_thumbnail_number = 2\n",
        "plt.show()"
      ],
      "execution_count": 18,
      "outputs": [
        {
          "output_type": "stream",
          "text": [
            "Test time taken: 0m 17s , loss: 0.7516, accuracy: 78.2026%\n"
          ],
          "name": "stdout"
        },
        {
          "output_type": "display_data",
          "data": {
            "image/png": "[encoded data removed]",
            "text/plain": [
              "<matplotlib.figure.Figure at 0x7faa55f5ca20>"
            ]
          },
          "metadata": {
            "tags": []
          }
        }
      ]
    },
    {
      "metadata": {
        "id": "oC3NhTXPe9D5",
        "colab_type": "text"
      },
      "cell_type": "markdown",
      "source": [
        "# Make Predictions"
      ]
    },
    {
      "metadata": {
        "id": "x571BELbjxVI",
        "colab_type": "code",
        "colab": {
          "base_uri": "https://localhost:8080/",
          "height": 374
        },
        "outputId": "a16a6c95-a617-45b2-873d-7eec7dc84e85"
      },
      "cell_type": "code",
      "source": [
        "predict('Saruwatari') # Japanese surname\n",
        "predict('Aitmukhambetov') # Kazakhstani surname - not a provided category\n",
        "predict('Bergen')"
      ],
      "execution_count": 12,
      "outputs": [
        {
          "output_type": "stream",
          "text": [
            "\n",
            "> Saruwatari\n",
            "saruwatari not found in training dataset\n",
            "saruwatari not found in dataset\n",
            "(56.68%) Japanese\n",
            "(23.27%) Russian\n",
            "(13.26%) Italian\n",
            "\n",
            "> Aitmukhambetov\n",
            "aitmukhambetov not found in training dataset\n",
            "aitmukhambetov not found in dataset\n",
            "(99.97%) Russian\n",
            "(0.02%) Arabic\n",
            "(0.00%) English\n",
            "\n",
            "> Bergen\n",
            "bergen not found in training dataset\n",
            "bergen not found in dataset\n",
            "(38.98%) English\n",
            "(24.10%) Russian\n",
            "(23.07%) German\n"
          ],
          "name": "stdout"
        }
      ]
    },
    {
      "metadata": {
        "id": "aErEVn8M2Hss",
        "colab_type": "text"
      },
      "cell_type": "markdown",
      "source": [
        "# Save model"
      ]
    },
    {
      "metadata": {
        "id": "zAJEbwgV2HDi",
        "colab_type": "code",
        "colab": {}
      },
      "cell_type": "code",
      "source": [
        "from google.colab import files\n",
        "\n",
        "torch.save(net, 'model.pt')\n",
        "\n",
        "files.download('model.pt')"
      ],
      "execution_count": 0,
      "outputs": []
    }
  ]
}