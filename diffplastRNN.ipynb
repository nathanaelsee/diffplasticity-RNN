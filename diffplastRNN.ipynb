{
  "nbformat": 4,
  "nbformat_minor": 0,
  "metadata": {
    "colab": {
      "name": "diffplastRNN.ipynb",
      "version": "0.3.2",
      "provenance": [],
      "collapsed_sections": [],
      "toc_visible": true,
      "include_colab_link": true
    },
    "kernelspec": {
      "name": "python3",
      "display_name": "Python 3"
    },
    "accelerator": "GPU"
  },
  "cells": [
    {
      "cell_type": "markdown",
      "metadata": {
        "id": "view-in-github",
        "colab_type": "text"
      },
      "source": [
        "<a href=\"https://colab.research.google.com/github/nathanaelsee/diffplasticity-RNN/blob/master/diffplastRNN.ipynb\" target=\"_parent\"><img src=\"https://colab.research.google.com/assets/colab-badge.svg\" alt=\"Open In Colab\"/></a>"
      ]
    },
    {
      "metadata": {
        "id": "9iqFvKNk4H-p",
        "colab_type": "text"
      },
      "cell_type": "markdown",
      "source": [
        "# Differentiable Plasticity RNN\n",
        "## An Extension of Uber's Differentiable Plasticity:\n",
        "https://github.com/uber-research/differentiable-plasticity/\n",
        "\n",
        "Testing the effectiveness of the differentiable plasticity network as an RNN model\n",
        "\n",
        "## Examples/tutorials used:\n",
        "\n",
        "https://pytorch.org/tutorials/intermediate/char_rnn_classification_tutorial.html  \n",
        "https://jovianlin.io/pytorch-with-gpu-in-google-colab/  "
      ]
    },
    {
      "metadata": {
        "id": "jUdrKNcTHaqe",
        "colab_type": "text"
      },
      "cell_type": "markdown",
      "source": [
        "# Install PyTorch"
      ]
    },
    {
      "metadata": {
        "id": "UrlaSAp1Gt6o",
        "colab_type": "code",
        "outputId": "ebabc527-9aca-4b07-b54b-d9abd01dd145",
        "colab": {
          "base_uri": "https://localhost:8080/",
          "height": 357
        }
      },
      "cell_type": "code",
      "source": [
        "!pip3 install torch\n",
        "    \n",
        "import torch\n",
        "import numpy as np\n",
        "import torch.nn as nn\n",
        "import torch.nn.functional as F\n",
        "from torch.utils import data\n",
        "from torch.autograd import Variable\n",
        "\n",
        "print(\"PyTorch version:\", torch.__version__)\n",
        "print(\"CUDA version:\\t\", torch.version.cuda)\n",
        "!nvidia-smi"
      ],
      "execution_count": 1,
      "outputs": [
        {
          "output_type": "stream",
          "text": [
            "Requirement already satisfied: torch in /usr/local/lib/python3.6/dist-packages (1.0.0)\n",
            "PyTorch version: 1.0.0\n",
            "CUDA version:\t 9.0.176\n",
            "Sun Dec  9 09:07:22 2018       \n",
            "+-----------------------------------------------------------------------------+\n",
            "| NVIDIA-SMI 396.44                 Driver Version: 396.44                    |\n",
            "|-------------------------------+----------------------+----------------------+\n",
            "| GPU  Name        Persistence-M| Bus-Id        Disp.A | Volatile Uncorr. ECC |\n",
            "| Fan  Temp  Perf  Pwr:Usage/Cap|         Memory-Usage | GPU-Util  Compute M. |\n",
            "|===============================+======================+======================|\n",
            "|   0  Tesla K80           Off  | 00000000:00:04.0 Off |                    0 |\n",
            "| N/A   31C    P8    27W / 149W |      0MiB / 11441MiB |      0%      Default |\n",
            "+-------------------------------+----------------------+----------------------+\n",
            "                                                                               \n",
            "+-----------------------------------------------------------------------------+\n",
            "| Processes:                                                       GPU Memory |\n",
            "|  GPU       PID   Type   Process name                             Usage      |\n",
            "|=============================================================================|\n",
            "|  No running processes found                                                 |\n",
            "+-----------------------------------------------------------------------------+\n"
          ],
          "name": "stdout"
        }
      ]
    },
    {
      "metadata": {
        "colab_type": "text",
        "id": "1wrQjc-Vfr-z"
      },
      "cell_type": "markdown",
      "source": [
        "# Download Dataset\n",
        "\n",
        "Dataset of names and their lingustic backgrounds taken from https://pytorch.org/tutorials/intermediate/char_rnn_classification_tutorial.html"
      ]
    },
    {
      "metadata": {
        "id": "9qZFluUHlqTb",
        "colab_type": "code",
        "colab": {}
      },
      "cell_type": "code",
      "source": [
        "import os\n",
        "\n",
        "if os.path.exists('data/names') == False:\n",
        "    !wget https://download.pytorch.org/tutorial/data.zip\n",
        "    !unzip data.zip"
      ],
      "execution_count": 0,
      "outputs": []
    },
    {
      "metadata": {
        "id": "fuLOBtJpevvp",
        "colab_type": "text"
      },
      "cell_type": "markdown",
      "source": [
        "# Process Dataset into Training & Test sets"
      ]
    },
    {
      "metadata": {
        "id": "V0uP08SCoAlF",
        "colab_type": "code",
        "outputId": "f07958d6-4961-40f5-efd9-e8eb6a580c1b",
        "colab": {
          "base_uri": "https://localhost:8080/",
          "height": 391
        }
      },
      "cell_type": "code",
      "source": [
        "from __future__ import unicode_literals, division\n",
        "from io import open\n",
        "import unicodedata\n",
        "import string\n",
        "import glob\n",
        "import random\n",
        "\n",
        "all_letters = string.ascii_letters + \" .,;'\"\n",
        "n_letters = len(all_letters)\n",
        "\n",
        "# Turn a Unicode string to plain ASCII, thanks to http://stackoverflow.com/a/518232/2809427\n",
        "def unicodeToAscii(s):\n",
        "    return ''.join(\n",
        "        c for c in unicodedata.normalize('NFD', s)\n",
        "        if unicodedata.category(c) != 'Mn'\n",
        "        and c in all_letters\n",
        "    ).lower()\n",
        "\n",
        "def letterToIndex(letter):\n",
        "    return all_letters.find(letter)\n",
        "\n",
        "print('Ślusàrski ->', unicodeToAscii('Ślusàrski'))\n",
        "\n",
        "# Build the category_lines dictionary, a list of names per language\n",
        "category_lines = {}\n",
        "all_lines = []\n",
        "line_table = []\n",
        "all_categories = []\n",
        "\n",
        "# Read a file and split into lines\n",
        "def readLines(filename):\n",
        "    lines = open(filename, encoding='utf-8').read().strip().split('\\n')\n",
        "    return [unicodeToAscii(line) for line in lines]\n",
        "\n",
        "# One-hot vector per character\n",
        "def lineToTensor(line):\n",
        "    tensor = torch.zeros(len(line), 1, n_letters)\n",
        "    for li, letter in enumerate(line):\n",
        "        tensor[li][0][letterToIndex(letter)] = 1\n",
        "    return tensor\n",
        "\n",
        "# Split data into training and test sets\n",
        "ratio = 0.9\n",
        "\n",
        "training_set = []\n",
        "test_set = []\n",
        "\n",
        "category_id = 0\n",
        "for filename in glob.glob('data/names/*.txt'):\n",
        "    \n",
        "    category = os.path.splitext(os.path.basename(filename))[0]\n",
        "    # Hack: to reduce dataset bias\n",
        "    #if category == \"Russian\" or category == \"English\": continue\n",
        "    all_categories.append(category)\n",
        "    \n",
        "    lines = readLines(filename)\n",
        "    random.shuffle(lines)\n",
        "    \n",
        "    # Hack: to reduce dataset bias\n",
        "    #if category == \"Russian\" or category == \"English\": lines = lines[:3000]\n",
        "    \n",
        "    category_lines[category] = lines\n",
        "    table = [(line, category_id, lineToTensor(line)) for line in lines]\n",
        "    \n",
        "    # Split category to training/test sets\n",
        "    tmp = int(len(table) * ratio)\n",
        "    training_set += table[:tmp]\n",
        "    test_set += table[tmp:]\n",
        "    \n",
        "    all_lines += lines\n",
        "    line_table += table\n",
        "    \n",
        "    category_id += 1\n",
        "\n",
        "n_data = len(all_lines)\n",
        "n_training = len(training_set)\n",
        "n_test = len(test_set)\n",
        "\n",
        "#random.shuffle(line_table)\n",
        "random.shuffle(training_set)\n",
        "random.shuffle(test_set)\n",
        "\n",
        "#training_set = line_table[:n_training]\n",
        "#test_set = line_table[n_training:]\n",
        "training_dict = {line:(cat, tensor) for line, cat, tensor in training_set}\n",
        "test_dict = {line:(cat, tensor) for line, cat, tensor in test_set}\n",
        "\n",
        "for category in all_categories :\n",
        "    print('%s:   \\t%d' % (category, len(category_lines[category])))\n",
        "print(\"Input dataset size:\", n_data)\n",
        "print(\"Training set size:\", len(training_set))\n",
        "print(\"Test set size:\", len(test_set))"
      ],
      "execution_count": 3,
      "outputs": [
        {
          "output_type": "stream",
          "text": [
            "Ślusàrski -> slusarski\n",
            "Russian:   \t9408\n",
            "Dutch:   \t297\n",
            "Irish:   \t232\n",
            "Greek:   \t203\n",
            "Czech:   \t519\n",
            "French:   \t277\n",
            "English:   \t3668\n",
            "Scottish:   \t100\n",
            "Italian:   \t709\n",
            "Japanese:   \t991\n",
            "Polish:   \t139\n",
            "Vietnamese:   \t73\n",
            "Spanish:   \t298\n",
            "Chinese:   \t268\n",
            "Portuguese:   \t74\n",
            "Arabic:   \t2000\n",
            "German:   \t724\n",
            "Korean:   \t94\n",
            "Input dataset size: 20074\n",
            "Training set size: 18060\n",
            "Test set size: 2014\n"
          ],
          "name": "stdout"
        }
      ]
    },
    {
      "metadata": {
        "id": "4hgCecJDIi8o",
        "colab_type": "text"
      },
      "cell_type": "markdown",
      "source": [
        "# Build the model\n",
        "\n",
        "Credits to Uber: https://github.com/uber-research/differentiable-plasticity/  \n",
        "Modifications made to original sample code."
      ]
    },
    {
      "metadata": {
        "id": "QQK4vsUchWCg",
        "colab_type": "code",
        "colab": {}
      },
      "cell_type": "code",
      "source": [
        "class DiffPlastRNN(nn.Module):\n",
        "    def __init__(self, input_size, num_classes):\n",
        "        \n",
        "        super(DiffPlastRNN, self).__init__()\n",
        "        self.input_size  = input_size\n",
        "        \n",
        "        # Initialize trainable parameters\n",
        "        self.w     = nn.Parameter(.01 * torch.randn(input_size, input_size), requires_grad=True) # The matrix of fixed (baseline) weights\n",
        "        self.alpha = nn.Parameter(.01 * torch.randn(input_size, input_size), requires_grad=True) # The matrix of plasticity coefficients\n",
        "        self.eta   = nn.Parameter(.01 * torch.ones(1),                       requires_grad=True) # The \"learning rate\" of plasticity - scalar-valued\n",
        "        \n",
        "        # 2-layer MLP on top of hidden state for classification\n",
        "        self.l1 = nn.Linear(input_size, input_size)\n",
        "        self.nonlin = nn.Tanh()\n",
        "        self.l2 = nn.Linear(input_size, num_classes)\n",
        "        self.softmax = nn.LogSoftmax(dim=1)           # Softmax layer on classification\n",
        "\n",
        "    # Run the network for one timestep\n",
        "    def forward(self, input, x_in, hebb):\n",
        "        \n",
        "        # hidden state - using tanh as non-linearity, as per paper\n",
        "        x_out = torch.tanh( x_in.mm(self.w + torch.mul(self.alpha, hebb)) + input )\n",
        "        \n",
        "        # Hebbian trace\n",
        "        hebb = (1 - self.eta) * hebb + self.eta * torch.bmm(x_in.unsqueeze(2), x_out.unsqueeze(1))[0] \n",
        "        # bmm here is used to implement an outer product between yin and yout, with the help of unsqueeze (i.e. added empty dimensions)\n",
        "        \n",
        "        # log softmax output for classification\n",
        "        output = self.softmax(self.l2(self.nonlin(self.l1(x_out))))\n",
        "        \n",
        "        return x_out, hebb, output\n",
        "\n",
        "    # RuntimeError if not using CUDA\n",
        "    def checkCuda(self):\n",
        "        self.w.get_device()\n",
        "        self.alpha.get_device()\n",
        "        self.eta.get_device()\n",
        "        \n",
        "    # Return an initialized, all-zero hidden state\n",
        "    def initialZeroState(self):\n",
        "        return torch.zeros(1, self.input_size)\n",
        "\n",
        "    # Return an initialized, all-zero Hebbian trace\n",
        "    def initialZeroHebb(self):\n",
        "        return torch.zeros(self.input_size, self.input_size)"
      ],
      "execution_count": 0,
      "outputs": []
    },
    {
      "metadata": {
        "id": "2CUPz-X84j5m",
        "colab_type": "text"
      },
      "cell_type": "markdown",
      "source": [
        "# Initialize Network with Hyperparameters"
      ]
    },
    {
      "metadata": {
        "id": "Jo60XGznI_Ul",
        "colab_type": "code",
        "outputId": "84c84f1d-a6ec-4e0a-b9d1-10cdd9848ca7",
        "colab": {
          "base_uri": "https://localhost:8080/",
          "height": 34
        }
      },
      "cell_type": "code",
      "source": [
        "# Hyperparameters\n",
        "n_letters = len(all_letters)\n",
        "n_categories = len(all_categories)\n",
        "learning_rate = 0.0001\n",
        "\n",
        "# Initialize net & training settings\n",
        "net = DiffPlastRNN(n_letters, n_categories)\n",
        "loss_func = nn.NLLLoss() # negative log likelihood loss\n",
        "optimizer = torch.optim.Adam(net.parameters(), lr=learning_rate) # Adam optimizer - more nuanced than basic grad desc\n",
        "\n",
        "# Enable CUDA if available\n",
        "if torch.cuda.is_available():\n",
        "    net.cuda()\n",
        "    net.checkCuda()\n",
        "    print(\"Using CUDA!\")\n",
        "else:\n",
        "    net.cpu()\n",
        "    print(\"Using CPU!\")"
      ],
      "execution_count": 5,
      "outputs": [
        {
          "output_type": "stream",
          "text": [
            "Using CUDA!\n"
          ],
          "name": "stdout"
        }
      ]
    },
    {
      "metadata": {
        "id": "kEFARp9v7QwY",
        "colab_type": "text"
      },
      "cell_type": "markdown",
      "source": [
        "# Define training & predicting methods"
      ]
    },
    {
      "metadata": {
        "id": "PtYxp61bsz1y",
        "colab_type": "code",
        "colab": {}
      },
      "cell_type": "code",
      "source": [
        "def getExample(index, dataset):\n",
        "    line, category_id, line_tensor = dataset[index]\n",
        "    category = all_categories[category_id]\n",
        "    category_tensor = torch.tensor([category_id], dtype=torch.long)\n",
        "    return category, line, category_tensor.cuda(), line_tensor.cuda()\n",
        "\n",
        "def iterate(category_tensor, line_tensor, train=True):\n",
        "    x_in = net.initialZeroState().cuda()\n",
        "    hebb = net.initialZeroHebb().cuda()\n",
        "\n",
        "    optimizer.zero_grad()\n",
        "\n",
        "    for i in range(line_tensor.size()[0]):\n",
        "        x_in, hebb, output = net(line_tensor[i], x_in, hebb)\n",
        "\n",
        "    loss = loss_func(output, category_tensor)\n",
        "    if train:\n",
        "        loss.backward()\n",
        "        optimizer.step()\n",
        "\n",
        "    return output, loss.item()\n",
        "\n",
        "def evaluate(line_tensor):\n",
        "    x_in = net.initialZeroState().cuda()\n",
        "    hebb = net.initialZeroHebb().cuda()\n",
        "\n",
        "    for i in range(line_tensor.size()[0]):\n",
        "        x_in, hebb, output = net(line_tensor[i], x_in, hebb)\n",
        "\n",
        "    return output\n",
        "\n",
        "def predict(input_line, n_predictions=3):\n",
        "    print('\\n> %s' % input_line)\n",
        "    with torch.no_grad():\n",
        "        line = unicodeToAscii(input_line)\n",
        "        \n",
        "        if line in training_dict:\n",
        "            print(line, \"found in training dataset, category\", all_categories[training_dict[line][0]])\n",
        "        else:\n",
        "            print(line, \"not found in training dataset\")\n",
        "            if line in test_dict:\n",
        "                print(line, \"found in test dataset, category\", all_categories[test_dict[line][0]])\n",
        "            else:\n",
        "                print(line, \"not found in dataset\")\n",
        "        \n",
        "        output = evaluate(lineToTensor(line).cuda())\n",
        "\n",
        "        # Get top N categories\n",
        "        topv, topi = output.topk(n_predictions, 1, True)\n",
        "        predictions = []\n",
        "\n",
        "        for i in range(n_predictions):\n",
        "            value = topv[0][i].item()\n",
        "            category_index = topi[0][i].item()\n",
        "            print('(%.2f%%) %s' % (np.exp(value) * 100, all_categories[category_index]))\n",
        "            predictions.append([value, all_categories[category_index]])\n",
        "\n",
        "def categoryFromOutput(output):\n",
        "    top_n, top_i = output.data.topk(1) # Tensor out of Variable with .data\n",
        "    category_i = top_i[0][0]\n",
        "    return all_categories[category_i], category_i"
      ],
      "execution_count": 0,
      "outputs": []
    },
    {
      "metadata": {
        "id": "oOCX7LMq7gBm",
        "colab_type": "text"
      },
      "cell_type": "markdown",
      "source": [
        "# Train Model on Training Set"
      ]
    },
    {
      "metadata": {
        "id": "w19yUmlPCvUj",
        "colab_type": "code",
        "outputId": "eb6aadba-49f4-478d-9aff-2a39c55f9a40",
        "colab": {
          "base_uri": "https://localhost:8080/",
          "height": 5117
        }
      },
      "cell_type": "code",
      "source": [
        "# Train\n",
        "import time\n",
        "import math\n",
        "\n",
        "\n",
        "def timeSince(since):\n",
        "    now = time.time()\n",
        "    s = now - since\n",
        "    m = math.floor(s / 60)\n",
        "    s -= m * 60\n",
        "    return '%dm %ds' % (m, s)\n",
        "\n",
        "training_losses = []\n",
        "start = time.time()\n",
        "def train(training_losses):\n",
        "\n",
        "\n",
        "    n_iters = n_training\n",
        "    print_every = n_iters // 4\n",
        "    plot_every = n_iters // 100\n",
        "\n",
        "    print_loss = 0\n",
        "    plot_loss = 0\n",
        "    n_corr = 0\n",
        "\n",
        "    print(\"Forward pass:\")\n",
        "    print(\"Iteration| Done | Time Elapsed  | Avg Loss | Accuracy | Input / Guess (Actual)\")\n",
        "    print(\"---------------------------------------------------------------------------------\")\n",
        "    for iter in range(0, n_iters):\n",
        "        category, line, category_tensor, line_tensor = getExample(iter, training_set)\n",
        "        output, loss = iterate(category_tensor, line_tensor)\n",
        "        guess, guess_i = categoryFromOutput(output)\n",
        "        if guess == category: n_corr += 1\n",
        "        print_loss += loss\n",
        "        plot_loss += loss\n",
        "\n",
        "        # Print iter number, loss, name and guess\n",
        "        if (iter + 1) % print_every == 0:\n",
        "            guess, guess_i = categoryFromOutput(output)\n",
        "            correct = '✓' if guess == category else '✗ (%s)' % category\n",
        "            print(' %d\\t | %d%%\\t|     %s\\t|  %.4f  |  %.2f%%  | %s / %s %s' % (iter, iter / n_iters * 100, timeSince(start), print_loss / print_every, n_corr / print_every * 100, line, guess, correct))\n",
        "            print_loss = 0\n",
        "            n_corr = 0\n",
        "\n",
        "        # Add current loss avg to list of losses\n",
        "        if (iter + 1) % plot_every == 0:\n",
        "            training_losses.append(plot_loss / plot_every)\n",
        "            plot_loss = 0\n",
        "            \n",
        "    print_loss = 0\n",
        "    plot_loss = 0\n",
        "    n_corr = 0\n",
        "\n",
        "    print(\"Backward pass:\")\n",
        "    print(\"Iteration| Done | Time Elapsed  | Avg Loss | Accuracy | Input / Guess (Actual)\")\n",
        "    print(\"---------------------------------------------------------------------------------\")\n",
        "    for iter in range(1, n_iters + 1):\n",
        "        category, line, category_tensor, line_tensor = getExample(n_iters - iter, training_set)\n",
        "        output, loss = iterate(category_tensor, line_tensor)\n",
        "        guess, guess_i = categoryFromOutput(output)\n",
        "        if guess == category: n_corr += 1\n",
        "        print_loss += loss\n",
        "        plot_loss += loss\n",
        "\n",
        "        # Print iter number, loss, name and guess\n",
        "        if iter % print_every == 0:\n",
        "            guess, guess_i = categoryFromOutput(output)\n",
        "            correct = '✓' if guess == category else '✗ (%s)' % category\n",
        "            print(' %d\\t | %d%%\\t|     %s\\t|  %.4f  |  %.2f%%  | %s / %s %s' % (iter, iter / n_iters * 100, timeSince(start), print_loss / print_every, n_corr / print_every * 100, line, guess, correct))\n",
        "            print_loss = 0\n",
        "            n_corr = 0\n",
        "\n",
        "        # Add current loss avg to list of losses\n",
        "        if iter % plot_every == 0:\n",
        "            training_losses.append(plot_loss / plot_every)\n",
        "            plot_loss = 0\n",
        "            \n",
        "epochs = 20\n",
        "for i in range(epochs):\n",
        "    random.shuffle(training_set)\n",
        "    print(\"Epoch\", i+1)\n",
        "    train(training_losses)"
      ],
      "execution_count": 7,
      "outputs": [
        {
          "output_type": "stream",
          "text": [
            "Epoch 1\n",
            "Forward pass:\n",
            "Iteration| Done | Time Elapsed  | Avg Loss | Accuracy | Input / Guess (Actual)\n",
            "---------------------------------------------------------------------------------\n",
            " 4514\t | 24%\t| 1m 11s \t|  1.8814  | 44.43%   | adolf / Russian ✓\n",
            " 9029\t | 49%\t| 2m 23s \t|  1.6526  | 50.54%   | kinghorn / Russian ✗ (English)\n",
            " 13544\t | 74%\t| 3m 35s \t|  1.4671  | 57.10%   | yandulsky / Russian ✓\n",
            " 18059\t | 99%\t| 4m 46s \t|  1.3850  | 59.84%   | lebeau / English ✗ (French)\n",
            "Backward pass:\n",
            "Iteration| Done | Time Elapsed  | Avg Loss | Accuracy | Input / Guess (Actual)\n",
            "---------------------------------------------------------------------------------\n",
            " 4515\t | 25%\t| 5m 57s \t|  1.2935  | 62.52%   | perkin / Russian ✗ (English)\n",
            " 9030\t | 50%\t| 7m 9s \t|  1.2106  | 64.83%   | hanafiev / Russian ✓\n",
            " 13545\t | 75%\t| 8m 21s \t|  1.2119  | 66.11%   | baikowski / Russian ✓\n",
            " 18060\t | 100%\t| 9m 33s \t|  1.1542  | 67.60%   | dittmar / Russian ✗ (German)\n",
            "Epoch 2\n",
            "Forward pass:\n",
            "Iteration| Done | Time Elapsed  | Avg Loss | Accuracy | Input / Guess (Actual)\n",
            "---------------------------------------------------------------------------------\n",
            " 4514\t | 24%\t| 10m 45s \t|  1.1529  | 66.93%   | hlgatyan / Russian ✓\n",
            " 9029\t | 49%\t| 11m 56s \t|  1.0769  | 69.97%   | castillion / English ✗ (Spanish)\n",
            " 13544\t | 74%\t| 13m 9s \t|  1.0529  | 69.41%   | enchev / Russian ✓\n",
            " 18059\t | 99%\t| 14m 20s \t|  1.0557  | 70.08%   | grigoriev / Russian ✓\n",
            "Backward pass:\n",
            "Iteration| Done | Time Elapsed  | Avg Loss | Accuracy | Input / Guess (Actual)\n",
            "---------------------------------------------------------------------------------\n",
            " 4515\t | 25%\t| 15m 31s \t|  1.0321  | 70.70%   | tarrant / English ✓\n",
            " 9030\t | 50%\t| 16m 43s \t|  1.0045  | 70.59%   | smit / Russian ✗ (Dutch)\n",
            " 13545\t | 75%\t| 17m 55s \t|  1.0009  | 71.30%   | yakupov / Russian ✓\n",
            " 18060\t | 100%\t| 19m 8s \t|  1.0369  | 69.68%   | minenko / Russian ✓\n",
            "Epoch 3\n",
            "Forward pass:\n",
            "Iteration| Done | Time Elapsed  | Avg Loss | Accuracy | Input / Guess (Actual)\n",
            "---------------------------------------------------------------------------------\n",
            " 4514\t | 24%\t| 20m 19s \t|  0.9887  | 71.92%   | yokokawa / Japanese ✓\n",
            " 9029\t | 49%\t| 21m 31s \t|  0.9842  | 71.21%   | rakhmanin / Russian ✓\n",
            " 13544\t | 74%\t| 22m 43s \t|  0.9598  | 72.09%   | vesnovsky / Russian ✓\n",
            " 18059\t | 99%\t| 23m 55s \t|  0.9526  | 71.81%   | vitram / Russian ✓\n",
            "Backward pass:\n",
            "Iteration| Done | Time Elapsed  | Avg Loss | Accuracy | Input / Guess (Actual)\n",
            "---------------------------------------------------------------------------------\n",
            " 4515\t | 25%\t| 25m 6s \t|  0.9348  | 72.29%   | remmer / German ✗ (Russian)\n",
            " 9030\t | 50%\t| 26m 19s \t|  0.9289  | 73.05%   | lowndes / English ✓\n",
            " 13545\t | 75%\t| 27m 31s \t|  0.9392  | 72.09%   | badyashin / Russian ✓\n",
            " 18060\t | 100%\t| 28m 43s \t|  0.9304  | 73.31%   | yamanouchi / Japanese ✓\n",
            "Epoch 4\n",
            "Forward pass:\n",
            "Iteration| Done | Time Elapsed  | Avg Loss | Accuracy | Input / Guess (Actual)\n",
            "---------------------------------------------------------------------------------\n",
            " 4514\t | 24%\t| 29m 55s \t|  0.9048  | 73.31%   | djanashiya / Russian ✓\n",
            " 9029\t | 49%\t| 31m 7s \t|  0.9231  | 72.74%   | zitserman / Russian ✓\n",
            " 13544\t | 74%\t| 32m 19s \t|  0.8843  | 74.51%   | gomulka / Russian ✗ (Polish)\n",
            " 18059\t | 99%\t| 33m 31s \t|  0.9107  | 73.36%   | ablesimov / Russian ✓\n",
            "Backward pass:\n",
            "Iteration| Done | Time Elapsed  | Avg Loss | Accuracy | Input / Guess (Actual)\n",
            "---------------------------------------------------------------------------------\n",
            " 4515\t | 25%\t| 34m 43s \t|  0.8953  | 73.78%   | awdiyski / Russian ✓\n",
            " 9030\t | 50%\t| 35m 55s \t|  0.8667  | 75.30%   | balabudkin / Russian ✓\n",
            " 13545\t | 75%\t| 37m 7s \t|  0.8969  | 73.40%   | bloom / English ✓\n",
            " 18060\t | 100%\t| 38m 20s \t|  0.8683  | 74.22%   | chikin / Russian ✓\n",
            "Epoch 5\n",
            "Forward pass:\n",
            "Iteration| Done | Time Elapsed  | Avg Loss | Accuracy | Input / Guess (Actual)\n",
            "---------------------------------------------------------------------------------\n",
            " 4514\t | 24%\t| 39m 32s \t|  0.8456  | 74.93%   | nejinsky / Russian ✓\n",
            " 9029\t | 49%\t| 40m 43s \t|  0.8413  | 75.35%   | pine / English ✓\n",
            " 13544\t | 74%\t| 41m 56s \t|  0.8896  | 73.95%   | paranin / Russian ✓\n",
            " 18059\t | 99%\t| 43m 9s \t|  0.8757  | 74.04%   | piskovoy / Russian ✓\n",
            "Backward pass:\n",
            "Iteration| Done | Time Elapsed  | Avg Loss | Accuracy | Input / Guess (Actual)\n",
            "---------------------------------------------------------------------------------\n",
            " 4515\t | 25%\t| 44m 21s \t|  0.8584  | 74.42%   | jukovin / Russian ✓\n",
            " 9030\t | 50%\t| 45m 34s \t|  0.8719  | 74.13%   | ocaskova / Czech ✓\n",
            " 13545\t | 75%\t| 46m 46s \t|  0.8237  | 75.46%   | ellrott / English ✓\n",
            " 18060\t | 100%\t| 47m 58s \t|  0.8211  | 75.48%   | baichikov / Russian ✓\n",
            "Epoch 6\n",
            "Forward pass:\n",
            "Iteration| Done | Time Elapsed  | Avg Loss | Accuracy | Input / Guess (Actual)\n",
            "---------------------------------------------------------------------------------\n",
            " 4514\t | 24%\t| 49m 10s \t|  0.8325  | 74.86%   | hakhva / Russian ✓\n",
            " 9029\t | 49%\t| 50m 23s \t|  0.8426  | 75.04%   | ablyakimoff / Russian ✓\n",
            " 13544\t | 74%\t| 51m 34s \t|  0.8153  | 75.68%   | pateman / Russian ✗ (English)\n",
            " 18059\t | 99%\t| 52m 46s \t|  0.8250  | 75.55%   | averbukh / Russian ✓\n",
            "Backward pass:\n",
            "Iteration| Done | Time Elapsed  | Avg Loss | Accuracy | Input / Guess (Actual)\n",
            "---------------------------------------------------------------------------------\n",
            " 4515\t | 25%\t| 53m 59s \t|  0.8068  | 75.88%   | simon / English ✓\n",
            " 9030\t | 50%\t| 55m 10s \t|  0.8009  | 75.88%   | mckenna / Czech ✗ (English)\n",
            " 13545\t | 75%\t| 56m 22s \t|  0.8272  | 75.30%   | silverstein / Russian ✗ (German)\n",
            " 18060\t | 100%\t| 57m 34s \t|  0.8127  | 75.95%   | atshushi / Japanese ✓\n",
            "Epoch 7\n",
            "Forward pass:\n",
            "Iteration| Done | Time Elapsed  | Avg Loss | Accuracy | Input / Guess (Actual)\n",
            "---------------------------------------------------------------------------------\n",
            " 4514\t | 24%\t| 58m 46s \t|  0.8001  | 76.17%   | dahno / Russian ✓\n",
            " 9029\t | 49%\t| 59m 58s \t|  0.8019  | 75.79%   | abyzov / Russian ✓\n",
            " 13544\t | 74%\t| 61m 9s \t|  0.7953  | 75.97%   | bakaev / Russian ✓\n",
            " 18059\t | 99%\t| 62m 22s \t|  0.8038  | 76.04%   | michkov / Russian ✓\n",
            "Backward pass:\n",
            "Iteration| Done | Time Elapsed  | Avg Loss | Accuracy | Input / Guess (Actual)\n",
            "---------------------------------------------------------------------------------\n",
            " 4515\t | 25%\t| 63m 34s \t|  0.7856  | 76.66%   | zimola / Czech ✓\n",
            " 9030\t | 50%\t| 64m 45s \t|  0.7855  | 76.35%   | achteren / English ✗ (Dutch)\n",
            " 13545\t | 75%\t| 65m 56s \t|  0.7885  | 76.23%   | getmanenko / Russian ✓\n",
            " 18060\t | 100%\t| 67m 8s \t|  0.7835  | 76.37%   | yudinsky / Russian ✓\n",
            "Epoch 8\n",
            "Forward pass:\n",
            "Iteration| Done | Time Elapsed  | Avg Loss | Accuracy | Input / Guess (Actual)\n",
            "---------------------------------------------------------------------------------\n",
            " 4514\t | 24%\t| 68m 21s \t|  0.7734  | 76.41%   | abrosoff / Russian ✓\n",
            " 9029\t | 49%\t| 69m 32s \t|  0.7659  | 76.37%   | awad / Arabic ✓\n",
            " 13544\t | 74%\t| 70m 43s \t|  0.7647  | 76.79%   | turovtsev / Russian ✓\n",
            " 18059\t | 99%\t| 71m 55s \t|  0.7888  | 76.81%   | main / English ✓\n",
            "Backward pass:\n",
            "Iteration| Done | Time Elapsed  | Avg Loss | Accuracy | Input / Guess (Actual)\n",
            "---------------------------------------------------------------------------------\n",
            " 4515\t | 25%\t| 73m 6s \t|  0.7706  | 77.03%   | lysakov / Russian ✓\n",
            " 9030\t | 50%\t| 74m 17s \t|  0.7571  | 76.77%   | fakhoury / Arabic ✓\n",
            " 13545\t | 75%\t| 75m 29s \t|  0.7516  | 77.01%   | mcgee / English ✓\n",
            " 18060\t | 100%\t| 76m 41s \t|  0.7640  | 77.10%   | naslednikov / Russian ✓\n",
            "Epoch 9\n",
            "Forward pass:\n",
            "Iteration| Done | Time Elapsed  | Avg Loss | Accuracy | Input / Guess (Actual)\n",
            "---------------------------------------------------------------------------------\n",
            " 4514\t | 24%\t| 77m 52s \t|  0.7514  | 77.12%   | rzhevsky / Russian ✓\n",
            " 9029\t | 49%\t| 79m 4s \t|  0.7468  | 77.90%   | ludwig / English ✗ (Czech)\n",
            " 13544\t | 74%\t| 80m 16s \t|  0.7480  | 77.21%   | rocca / Spanish ✗ (Italian)\n",
            " 18059\t | 99%\t| 81m 27s \t|  0.7554  | 77.03%   | ganem / Arabic ✓\n",
            "Backward pass:\n",
            "Iteration| Done | Time Elapsed  | Avg Loss | Accuracy | Input / Guess (Actual)\n",
            "---------------------------------------------------------------------------------\n",
            " 4515\t | 25%\t| 82m 38s \t|  0.7394  | 77.92%   | siu / Chinese ✓\n",
            " 9030\t | 50%\t| 83m 50s \t|  0.7349  | 77.72%   | ibarra / Spanish ✓\n",
            " 13545\t | 75%\t| 85m 2s \t|  0.7362  | 77.43%   | adiev / Russian ✓\n",
            " 18060\t | 100%\t| 86m 13s \t|  0.7429  | 77.05%   | chao / Chinese ✓\n",
            "Epoch 10\n",
            "Forward pass:\n",
            "Iteration| Done | Time Elapsed  | Avg Loss | Accuracy | Input / Guess (Actual)\n",
            "---------------------------------------------------------------------------------\n",
            " 4514\t | 24%\t| 87m 25s \t|  0.7363  | 77.59%   | kool / English ✗ (Dutch)\n",
            " 9029\t | 49%\t| 88m 37s \t|  0.6991  | 79.00%   | nakanishi / Russian ✗ (Japanese)\n",
            " 13544\t | 74%\t| 89m 49s \t|  0.7404  | 77.32%   | sniders / English ✗ (Dutch)\n",
            " 18059\t | 99%\t| 91m 0s \t|  0.7330  | 77.76%   | grant / English ✗ (Russian)\n",
            "Backward pass:\n",
            "Iteration| Done | Time Elapsed  | Avg Loss | Accuracy | Input / Guess (Actual)\n",
            "---------------------------------------------------------------------------------\n",
            " 4515\t | 25%\t| 92m 11s \t|  0.7158  | 78.27%   | garber / English ✓\n",
            " 9030\t | 50%\t| 93m 23s \t|  0.7303  | 77.63%   | to / Japanese ✗ (Vietnamese)\n",
            " 13545\t | 75%\t| 94m 34s \t|  0.6875  | 79.34%   | neilson / English ✓\n",
            " 18060\t | 100%\t| 95m 46s \t|  0.7320  | 77.81%   | toloni / Italian ✓\n",
            "Epoch 11\n",
            "Forward pass:\n",
            "Iteration| Done | Time Elapsed  | Avg Loss | Accuracy | Input / Guess (Actual)\n",
            "---------------------------------------------------------------------------------\n",
            " 4514\t | 24%\t| 96m 57s \t|  0.6940  | 78.91%   | vavkin / Russian ✓\n",
            " 9029\t | 49%\t| 98m 8s \t|  0.7067  | 78.05%   | oxtoby / English ✓\n",
            " 13544\t | 74%\t| 99m 20s \t|  0.7151  | 77.90%   | mojjis / Arabic ✗ (Czech)\n",
            " 18059\t | 99%\t| 100m 31s \t|  0.7234  | 78.10%   | ziyakov / Russian ✓\n",
            "Backward pass:\n",
            "Iteration| Done | Time Elapsed  | Avg Loss | Accuracy | Input / Guess (Actual)\n",
            "---------------------------------------------------------------------------------\n",
            " 4515\t | 25%\t| 101m 42s \t|  0.7041  | 78.45%   | huynh / Russian ✗ (Vietnamese)\n",
            " 9030\t | 50%\t| 102m 52s \t|  0.7034  | 78.45%   | charukhin / Russian ✓\n",
            " 13545\t | 75%\t| 104m 4s \t|  0.6982  | 78.49%   | balahovski / Russian ✓\n",
            " 18060\t | 100%\t| 105m 15s \t|  0.6892  | 79.05%   | nicolai / Italian ✓\n",
            "Epoch 12\n",
            "Forward pass:\n",
            "Iteration| Done | Time Elapsed  | Avg Loss | Accuracy | Input / Guess (Actual)\n",
            "---------------------------------------------------------------------------------\n",
            " 4514\t | 24%\t| 106m 27s \t|  0.6914  | 78.29%   | amador / Arabic ✗ (Spanish)\n",
            " 9029\t | 49%\t| 107m 38s \t|  0.6899  | 79.29%   | groer / English ✗ (German)\n",
            " 13544\t | 74%\t| 108m 50s \t|  0.6898  | 78.89%   | lopez / Spanish ✗ (English)\n",
            " 18059\t | 99%\t| 110m 1s \t|  0.6846  | 78.96%   | kanaan / Arabic ✓\n",
            "Backward pass:\n",
            "Iteration| Done | Time Elapsed  | Avg Loss | Accuracy | Input / Guess (Actual)\n",
            "---------------------------------------------------------------------------------\n",
            " 4515\t | 25%\t| 111m 11s \t|  0.6655  | 79.56%   | maruya / Japanese ✓\n",
            " 9030\t | 50%\t| 112m 23s \t|  0.6797  | 79.20%   | kell / English ✓\n",
            " 13545\t | 75%\t| 113m 33s \t|  0.6857  | 79.31%   | charuhin / Russian ✓\n",
            " 18060\t | 100%\t| 114m 45s \t|  0.6849  | 78.74%   | hodge / English ✓\n",
            "Epoch 13\n",
            "Forward pass:\n",
            "Iteration| Done | Time Elapsed  | Avg Loss | Accuracy | Input / Guess (Actual)\n",
            "---------------------------------------------------------------------------------\n",
            " 4514\t | 24%\t| 115m 56s \t|  0.6701  | 79.14%   | teufel / German ✓\n",
            " 9029\t | 49%\t| 117m 8s \t|  0.6533  | 79.69%   | toguzov / Russian ✓\n",
            " 13544\t | 74%\t| 118m 18s \t|  0.6812  | 79.14%   | said / Arabic ✓\n",
            " 18059\t | 99%\t| 119m 30s \t|  0.6906  | 79.29%   | gulamov / Russian ✓\n",
            "Backward pass:\n",
            "Iteration| Done | Time Elapsed  | Avg Loss | Accuracy | Input / Guess (Actual)\n",
            "---------------------------------------------------------------------------------\n",
            " 4515\t | 25%\t| 120m 41s \t|  0.6722  | 79.40%   | jeltukhin / Russian ✓\n",
            " 9030\t | 50%\t| 121m 52s \t|  0.6717  | 79.22%   | chew / English ✗ (Chinese)\n",
            " 13545\t | 75%\t| 123m 3s \t|  0.6458  | 80.09%   | koury / Arabic ✓\n",
            " 18060\t | 100%\t| 124m 15s \t|  0.6651  | 79.69%   | fordham / English ✓\n",
            "Epoch 14\n",
            "Forward pass:\n",
            "Iteration| Done | Time Elapsed  | Avg Loss | Accuracy | Input / Guess (Actual)\n",
            "---------------------------------------------------------------------------------\n",
            " 4514\t | 24%\t| 125m 26s \t|  0.6566  | 79.51%   | likhonosov / Russian ✓\n",
            " 9029\t | 49%\t| 126m 37s \t|  0.6614  | 79.20%   | hainadsky / Russian ✓\n",
            " 13544\t | 74%\t| 127m 48s \t|  0.6187  | 80.97%   | takudo / Japanese ✓\n",
            " 18059\t | 99%\t| 128m 59s \t|  0.6898  | 79.73%   | zhu / Chinese ✓\n",
            "Backward pass:\n",
            "Iteration| Done | Time Elapsed  | Avg Loss | Accuracy | Input / Guess (Actual)\n",
            "---------------------------------------------------------------------------------\n",
            " 4515\t | 25%\t| 130m 11s \t|  0.6696  | 79.71%   | gatilov / Russian ✓\n",
            " 9030\t | 50%\t| 131m 22s \t|  0.6096  | 81.13%   | zhitny / Russian ✓\n",
            " 13545\t | 75%\t| 132m 34s \t|  0.6553  | 79.45%   | vakker / Russian ✓\n",
            " 18060\t | 100%\t| 133m 45s \t|  0.6546  | 79.65%   | jensen / Russian ✗ (English)\n",
            "Epoch 15\n",
            "Forward pass:\n",
            "Iteration| Done | Time Elapsed  | Avg Loss | Accuracy | Input / Guess (Actual)\n",
            "---------------------------------------------------------------------------------\n",
            " 4514\t | 24%\t| 134m 56s \t|  0.6168  | 80.78%   | jacques / English ✓\n",
            " 9029\t | 49%\t| 136m 8s \t|  0.6455  | 80.51%   | awad / Arabic ✓\n",
            " 13544\t | 74%\t| 137m 20s \t|  0.6480  | 80.02%   | schlusser / German ✓\n",
            " 18059\t | 99%\t| 138m 31s \t|  0.6525  | 79.58%   | jatskov / Russian ✓\n",
            "Backward pass:\n",
            "Iteration| Done | Time Elapsed  | Avg Loss | Accuracy | Input / Guess (Actual)\n",
            "---------------------------------------------------------------------------------\n",
            " 4515\t | 25%\t| 139m 43s \t|  0.6332  | 80.04%   | tange / English ✗ (Japanese)\n",
            " 9030\t | 50%\t| 140m 55s \t|  0.6394  | 80.11%   | hamraev / Russian ✓\n",
            " 13545\t | 75%\t| 142m 6s \t|  0.6366  | 80.69%   | rademaker / Russian ✗ (Dutch)\n",
            " 18060\t | 100%\t| 143m 18s \t|  0.6190  | 81.20%   | ito / Japanese ✓\n",
            "Epoch 16\n",
            "Forward pass:\n",
            "Iteration| Done | Time Elapsed  | Avg Loss | Accuracy | Input / Guess (Actual)\n",
            "---------------------------------------------------------------------------------\n",
            " 4514\t | 24%\t| 144m 31s \t|  0.6087  | 81.44%   | arai / Italian ✗ (Japanese)\n",
            " 9029\t | 49%\t| 145m 42s \t|  0.6103  | 80.89%   | shamoun / Arabic ✓\n",
            " 13544\t | 74%\t| 146m 53s \t|  0.6657  | 79.56%   | tselischev / Russian ✓\n",
            " 18059\t | 99%\t| 148m 5s \t|  0.6152  | 81.11%   | howden / English ✓\n",
            "Backward pass:\n",
            "Iteration| Done | Time Elapsed  | Avg Loss | Accuracy | Input / Guess (Actual)\n",
            "---------------------------------------------------------------------------------\n",
            " 4515\t | 25%\t| 149m 17s \t|  0.5959  | 81.57%   | hwang / Chinese ✗ (Korean)\n",
            " 9030\t | 50%\t| 150m 29s \t|  0.6560  | 79.45%   | whittley / English ✓\n",
            " 13545\t | 75%\t| 151m 40s \t|  0.6071  | 80.93%   | valter / Russian ✓\n",
            " 18060\t | 100%\t| 152m 52s \t|  0.6075  | 81.26%   | mcgrory / English ✓\n",
            "Epoch 17\n",
            "Forward pass:\n",
            "Iteration| Done | Time Elapsed  | Avg Loss | Accuracy | Input / Guess (Actual)\n",
            "---------------------------------------------------------------------------------\n",
            " 4514\t | 24%\t| 154m 4s \t|  0.6275  | 80.53%   | katsukov / Russian ✓\n",
            " 9029\t | 49%\t| 155m 15s \t|  0.6077  | 80.73%   | ralston / English ✓\n",
            " 13544\t | 74%\t| 156m 27s \t|  0.6141  | 81.17%   | vorotnikov / Russian ✓\n",
            " 18059\t | 99%\t| 157m 39s \t|  0.5972  | 81.71%   | flores / Spanish ✓\n",
            "Backward pass:\n",
            "Iteration| Done | Time Elapsed  | Avg Loss | Accuracy | Input / Guess (Actual)\n",
            "---------------------------------------------------------------------------------\n",
            " 4515\t | 25%\t| 158m 50s \t|  0.5778  | 82.72%   | royama / Japanese ✓\n",
            " 9030\t | 50%\t| 160m 1s \t|  0.6077  | 81.22%   | kaspar / Arabic ✗ (German)\n",
            " 13545\t | 75%\t| 161m 12s \t|  0.6042  | 80.75%   | rzhanov / Russian ✓\n",
            " 18060\t | 100%\t| 162m 24s \t|  0.6268  | 80.69%   | kataoka / Japanese ✓\n",
            "Epoch 18\n",
            "Forward pass:\n",
            "Iteration| Done | Time Elapsed  | Avg Loss | Accuracy | Input / Guess (Actual)\n",
            "---------------------------------------------------------------------------------\n",
            " 4514\t | 24%\t| 163m 35s \t|  0.5656  | 82.61%   | dontsov / Russian ✓\n",
            " 9029\t | 49%\t| 164m 47s \t|  0.5894  | 81.59%   | ghannam / Arabic ✓\n",
            " 13544\t | 74%\t| 165m 59s \t|  0.6116  | 80.95%   | pendleton / English ✓\n",
            " 18059\t | 99%\t| 167m 9s \t|  0.6249  | 80.58%   | bakiev / Russian ✓\n",
            "Backward pass:\n",
            "Iteration| Done | Time Elapsed  | Avg Loss | Accuracy | Input / Guess (Actual)\n",
            "---------------------------------------------------------------------------------\n",
            " 4515\t | 25%\t| 168m 21s \t|  0.6014  | 80.93%   | saliba / Arabic ✓\n",
            " 9030\t | 50%\t| 169m 32s \t|  0.5997  | 81.35%   | otsing / English ✗ (Russian)\n",
            " 13545\t | 75%\t| 170m 43s \t|  0.5857  | 81.75%   | tompkin / Russian ✗ (English)\n",
            " 18060\t | 100%\t| 171m 55s \t|  0.5696  | 82.10%   | waterman / Russian ✗ (English)\n",
            "Epoch 19\n",
            "Forward pass:\n",
            "Iteration| Done | Time Elapsed  | Avg Loss | Accuracy | Input / Guess (Actual)\n",
            "---------------------------------------------------------------------------------\n",
            " 4514\t | 24%\t| 173m 7s \t|  0.5845  | 82.26%   | nelmes / English ✓\n",
            " 9029\t | 49%\t| 174m 18s \t|  0.5893  | 81.46%   | ponosov / Russian ✓\n",
            " 13544\t | 74%\t| 175m 29s \t|  0.5656  | 82.39%   | stoppelbein / German ✓\n",
            " 18059\t | 99%\t| 176m 41s \t|  0.5953  | 81.88%   | shotton / Arabic ✗ (English)\n",
            "Backward pass:\n",
            "Iteration| Done | Time Elapsed  | Avg Loss | Accuracy | Input / Guess (Actual)\n",
            "---------------------------------------------------------------------------------\n",
            " 4515\t | 25%\t| 177m 52s \t|  0.5704  | 82.15%   | zinyuhin / Russian ✓\n",
            " 9030\t | 50%\t| 179m 4s \t|  0.5580  | 82.17%   | eikhvald / Russian ✓\n",
            " 13545\t | 75%\t| 180m 15s \t|  0.5862  | 81.42%   | awakyan / Russian ✓\n",
            " 18060\t | 100%\t| 181m 27s \t|  0.5851  | 81.86%   | zhemoitel / Russian ✓\n",
            "Epoch 20\n",
            "Forward pass:\n",
            "Iteration| Done | Time Elapsed  | Avg Loss | Accuracy | Input / Guess (Actual)\n",
            "---------------------------------------------------------------------------------\n",
            " 4514\t | 24%\t| 182m 38s \t|  0.5625  | 82.66%   | vertogradov / Russian ✓\n",
            " 9029\t | 49%\t| 183m 49s \t|  0.5627  | 82.59%   | vasyaev / Russian ✓\n",
            " 13544\t | 74%\t| 185m 0s \t|  0.5891  | 81.35%   | jakutin / Russian ✓\n",
            " 18059\t | 99%\t| 186m 11s \t|  0.5751  | 81.79%   | escarcega / Spanish ✓\n",
            "Backward pass:\n",
            "Iteration| Done | Time Elapsed  | Avg Loss | Accuracy | Input / Guess (Actual)\n",
            "---------------------------------------------------------------------------------\n",
            " 4515\t | 25%\t| 187m 22s \t|  0.5499  | 82.39%   | ladyjets / Russian ✓\n",
            " 9030\t | 50%\t| 188m 33s \t|  0.5830  | 81.86%   | kattan / Arabic ✓\n",
            " 13545\t | 75%\t| 189m 44s \t|  0.5572  | 82.75%   | glubokovsky / Russian ✓\n",
            " 18060\t | 100%\t| 190m 56s \t|  0.5664  | 82.46%   | jerebtsov / Russian ✓\n"
          ],
          "name": "stdout"
        }
      ]
    },
    {
      "metadata": {
        "id": "rDJKPveuQ2Am",
        "colab_type": "text"
      },
      "cell_type": "markdown",
      "source": [
        "# Test model on test set\n",
        "\n",
        "Running over the test set, tabulate the average loss and accuracy and generate confusion matrix"
      ]
    },
    {
      "metadata": {
        "id": "Lh3S8lj6Gfti",
        "colab_type": "code",
        "colab": {
          "base_uri": "https://localhost:8080/",
          "height": 68
        },
        "outputId": "308d175e-1038-49a4-8b50-d07f0f6b58d9"
      },
      "cell_type": "code",
      "source": [
        "# Test\n",
        "start = time.time()\n",
        "\n",
        "n_iters = n_test\n",
        "total_test_loss = 0\n",
        "correct = 0\n",
        "\n",
        "confusion = torch.zeros(n_categories, n_categories)\n",
        "\n",
        "for iter in range(0, n_iters):\n",
        "    category, line, category_tensor, line_tensor = getExample(iter, test_set)\n",
        "    output, loss = iterate(category_tensor, line_tensor, train=False)\n",
        "    total_test_loss += loss\n",
        "    \n",
        "    guess, guess_i = categoryFromOutput(output)\n",
        "    if guess == category: correct += 1\n",
        "    category_i = all_categories.index(category)\n",
        "    confusion[category_i][guess_i] += 1\n",
        "\n",
        "test_loss = total_test_loss / n_test\n",
        "accuracy = correct / n_test\n",
        "print(\"Time taken:\", timeSince(start))\n",
        "print(\"Test loss:\", test_loss)\n",
        "print(\"Test accuracy:\", accuracy)"
      ],
      "execution_count": 8,
      "outputs": [
        {
          "output_type": "stream",
          "text": [
            "Time taken: 0m 14s\n",
            "Test loss: 0.7106463940520036\n",
            "Test accuracy: 0.7825223435948362\n"
          ],
          "name": "stdout"
        }
      ]
    },
    {
      "metadata": {
        "id": "FlIbDEyNSoWg",
        "colab_type": "text"
      },
      "cell_type": "markdown",
      "source": [
        "# Plot training loss\n",
        "Horizontal line is test loss"
      ]
    },
    {
      "metadata": {
        "id": "uof2bcfIK5n7",
        "colab_type": "code",
        "colab": {
          "base_uri": "https://localhost:8080/",
          "height": 368
        },
        "outputId": "520d99e7-67e6-49a1-b963-578a3030f1da"
      },
      "cell_type": "code",
      "source": [
        "import matplotlib.pyplot as plt\n",
        "\n",
        "graph = plt.figure()\n",
        "plt.plot(training_losses)\n",
        "plt.hlines(test_loss, 0, len(training_losses))\n"
      ],
      "execution_count": 9,
      "outputs": [
        {
          "output_type": "execute_result",
          "data": {
            "text/plain": [
              "<matplotlib.collections.LineCollection at 0x7f0f15d8bcf8>"
            ]
          },
          "metadata": {
            "tags": []
          },
          "execution_count": 9
        },
        {
          "output_type": "display_data",
          "data": {
            "image/png": "[encoded data removed]",
            "text/plain": [
              "<matplotlib.figure.Figure at 0x7f0f159df668>"
            ]
          },
          "metadata": {
            "tags": []
          }
        }
      ]
    },
    {
      "metadata": {
        "id": "9QDBYueby7Rg",
        "colab_type": "text"
      },
      "cell_type": "markdown",
      "source": [
        "# Confusion Matrix"
      ]
    },
    {
      "metadata": {
        "id": "jLjunHAxgm83",
        "colab_type": "code",
        "colab": {
          "base_uri": "https://localhost:8080/",
          "height": 396
        },
        "outputId": "16a40aa0-e29c-448e-9f25-40f1cf654bba"
      },
      "cell_type": "code",
      "source": [
        "import matplotlib.ticker as ticker\n",
        "\n",
        "# Normalize by dividing every row by its sum\n",
        "for i in range(n_categories):\n",
        "    confusion[i] = confusion[i] / confusion[i].sum()\n",
        "\n",
        "# Set up plot\n",
        "fig = plt.figure()\n",
        "ax = fig.add_subplot(111)\n",
        "cax = ax.matshow(confusion.numpy())\n",
        "fig.colorbar(cax)\n",
        "\n",
        "# Set up axes\n",
        "ax.set_xticklabels([''] + all_categories, rotation=90)\n",
        "ax.set_yticklabels([''] + all_categories)\n",
        "\n",
        "# Force label at every tick\n",
        "ax.xaxis.set_major_locator(ticker.MultipleLocator(1))\n",
        "ax.yaxis.set_major_locator(ticker.MultipleLocator(1))\n",
        "\n",
        "# sphinx_gallery_thumbnail_number = 2\n",
        "plt.show()"
      ],
      "execution_count": 10,
      "outputs": [
        {
          "output_type": "display_data",
          "data": {
            "image/png": "[encoded data removed]",
            "text/plain": [
              "<matplotlib.figure.Figure at 0x7f0f137bcb70>"
            ]
          },
          "metadata": {
            "tags": []
          }
        }
      ]
    },
    {
      "metadata": {
        "id": "oC3NhTXPe9D5",
        "colab_type": "text"
      },
      "cell_type": "markdown",
      "source": [
        "# Make Predictions"
      ]
    },
    {
      "metadata": {
        "id": "x571BELbjxVI",
        "colab_type": "code",
        "colab": {
          "base_uri": "https://localhost:8080/",
          "height": 357
        },
        "outputId": "8453f015-886e-4520-a3e8-7f6ec78c9d15"
      },
      "cell_type": "code",
      "source": [
        "predict('Saruwatari') # Japanese surname\n",
        "predict('Aitmukhambetov') # Kazakhstani surname - not a provided category\n",
        "predict('Strobel')"
      ],
      "execution_count": 14,
      "outputs": [
        {
          "output_type": "stream",
          "text": [
            "\n",
            "> Saruwatari\n",
            "saruwatari not found in training dataset\n",
            "saruwatari not found in dataset\n",
            "(99.98%) Japanese\n",
            "(0.01%) Russian\n",
            "(0.00%) Dutch\n",
            "\n",
            "> Aitmukhambetov\n",
            "aitmukhambetov not found in training dataset\n",
            "aitmukhambetov not found in dataset\n",
            "(100.00%) Russian\n",
            "(0.00%) Czech\n",
            "(0.00%) English\n",
            "\n",
            "> Strobel\n",
            "strobel found in training dataset, category German\n",
            "(54.07%) Czech\n",
            "(14.40%) German\n",
            "(12.83%) English\n"
          ],
          "name": "stdout"
        }
      ]
    },
    {
      "metadata": {
        "id": "aErEVn8M2Hss",
        "colab_type": "text"
      },
      "cell_type": "markdown",
      "source": [
        "# Save model"
      ]
    },
    {
      "metadata": {
        "id": "zAJEbwgV2HDi",
        "colab_type": "code",
        "colab": {
          "base_uri": "https://localhost:8080/",
          "height": 71
        },
        "outputId": "22d6a09f-a75f-4c14-d052-504bffef415d"
      },
      "cell_type": "code",
      "source": [
        "from google.colab import files\n",
        "\n",
        "torch.save(net, 'model.pt')\n",
        "\n",
        "files.download('model.pt')"
      ],
      "execution_count": 12,
      "outputs": [
        {
          "output_type": "stream",
          "text": [
            "/usr/local/lib/python3.6/dist-packages/torch/serialization.py:250: UserWarning: Couldn't retrieve source code for container of type DiffPlastRNN. It won't be checked for correctness upon loading.\n",
            "  \"type \" + obj.__name__ + \". It won't be checked \"\n"
          ],
          "name": "stderr"
        }
      ]
    },
    {
      "metadata": {
        "id": "4u2Aqf4l2ZKJ",
        "colab_type": "code",
        "colab": {}
      },
      "cell_type": "code",
      "source": [
        "net = torch.load('model.pt')"
      ],
      "execution_count": 0,
      "outputs": []
    }
  ]
}